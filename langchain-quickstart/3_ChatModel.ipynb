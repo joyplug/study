{
  "nbformat": 4,
  "nbformat_minor": 0,
  "metadata": {
    "colab": {
      "provenance": [],
      "authorship_tag": "ABX9TyN8MI+Lug0JGkyDjUy0tevm",
      "include_colab_link": true
    },
    "kernelspec": {
      "name": "python3",
      "display_name": "Python 3"
    },
    "language_info": {
      "name": "python"
    }
  },
  "cells": [
    {
      "cell_type": "markdown",
      "metadata": {
        "id": "view-in-github",
        "colab_type": "text"
      },
      "source": [
        "<a href=\"https://colab.research.google.com/github/joyplug/study/blob/main/3_ChatModel.ipynb\" target=\"_parent\"><img src=\"https://colab.research.google.com/assets/colab-badge.svg\" alt=\"Open In Colab\"/></a>"
      ]
    },
    {
      "cell_type": "code",
      "source": [
        "!python -V\n",
        "!pip install --upgrade langchain-core\n",
        "!pip install --upgrade langchain-openai langsmith\n",
        "!pip install --upgrade langchain_community\n",
        "API_KEY = \"\""
      ],
      "metadata": {
        "collapsed": true,
        "colab": {
          "base_uri": "https://localhost:8080/"
        },
        "id": "mzE40FLtOUKp",
        "outputId": "71fd9cd8-2699-451d-e753-40eebc290e92"
      },
      "execution_count": 12,
      "outputs": [
        {
          "output_type": "stream",
          "name": "stdout",
          "text": [
            "Python 3.10.12\n",
            "Requirement already satisfied: langchain-core in /usr/local/lib/python3.10/dist-packages (0.3.5)\n",
            "Requirement already satisfied: PyYAML>=5.3 in /usr/local/lib/python3.10/dist-packages (from langchain-core) (6.0.2)\n",
            "Requirement already satisfied: jsonpatch<2.0,>=1.33 in /usr/local/lib/python3.10/dist-packages (from langchain-core) (1.33)\n",
            "Requirement already satisfied: langsmith<0.2.0,>=0.1.125 in /usr/local/lib/python3.10/dist-packages (from langchain-core) (0.1.125)\n",
            "Requirement already satisfied: packaging<25,>=23.2 in /usr/local/lib/python3.10/dist-packages (from langchain-core) (24.1)\n",
            "Requirement already satisfied: pydantic<3.0.0,>=2.5.2 in /usr/local/lib/python3.10/dist-packages (from langchain-core) (2.9.2)\n",
            "Requirement already satisfied: tenacity!=8.4.0,<9.0.0,>=8.1.0 in /usr/local/lib/python3.10/dist-packages (from langchain-core) (8.5.0)\n",
            "Requirement already satisfied: typing-extensions>=4.7 in /usr/local/lib/python3.10/dist-packages (from langchain-core) (4.12.2)\n",
            "Requirement already satisfied: jsonpointer>=1.9 in /usr/local/lib/python3.10/dist-packages (from jsonpatch<2.0,>=1.33->langchain-core) (3.0.0)\n",
            "Requirement already satisfied: httpx<1,>=0.23.0 in /usr/local/lib/python3.10/dist-packages (from langsmith<0.2.0,>=0.1.125->langchain-core) (0.27.2)\n",
            "Requirement already satisfied: orjson<4.0.0,>=3.9.14 in /usr/local/lib/python3.10/dist-packages (from langsmith<0.2.0,>=0.1.125->langchain-core) (3.10.7)\n",
            "Requirement already satisfied: requests<3,>=2 in /usr/local/lib/python3.10/dist-packages (from langsmith<0.2.0,>=0.1.125->langchain-core) (2.32.3)\n",
            "Requirement already satisfied: annotated-types>=0.6.0 in /usr/local/lib/python3.10/dist-packages (from pydantic<3.0.0,>=2.5.2->langchain-core) (0.7.0)\n",
            "Requirement already satisfied: pydantic-core==2.23.4 in /usr/local/lib/python3.10/dist-packages (from pydantic<3.0.0,>=2.5.2->langchain-core) (2.23.4)\n",
            "Requirement already satisfied: anyio in /usr/local/lib/python3.10/dist-packages (from httpx<1,>=0.23.0->langsmith<0.2.0,>=0.1.125->langchain-core) (3.7.1)\n",
            "Requirement already satisfied: certifi in /usr/local/lib/python3.10/dist-packages (from httpx<1,>=0.23.0->langsmith<0.2.0,>=0.1.125->langchain-core) (2024.8.30)\n",
            "Requirement already satisfied: httpcore==1.* in /usr/local/lib/python3.10/dist-packages (from httpx<1,>=0.23.0->langsmith<0.2.0,>=0.1.125->langchain-core) (1.0.5)\n",
            "Requirement already satisfied: idna in /usr/local/lib/python3.10/dist-packages (from httpx<1,>=0.23.0->langsmith<0.2.0,>=0.1.125->langchain-core) (3.10)\n",
            "Requirement already satisfied: sniffio in /usr/local/lib/python3.10/dist-packages (from httpx<1,>=0.23.0->langsmith<0.2.0,>=0.1.125->langchain-core) (1.3.1)\n",
            "Requirement already satisfied: h11<0.15,>=0.13 in /usr/local/lib/python3.10/dist-packages (from httpcore==1.*->httpx<1,>=0.23.0->langsmith<0.2.0,>=0.1.125->langchain-core) (0.14.0)\n",
            "Requirement already satisfied: charset-normalizer<4,>=2 in /usr/local/lib/python3.10/dist-packages (from requests<3,>=2->langsmith<0.2.0,>=0.1.125->langchain-core) (3.3.2)\n",
            "Requirement already satisfied: urllib3<3,>=1.21.1 in /usr/local/lib/python3.10/dist-packages (from requests<3,>=2->langsmith<0.2.0,>=0.1.125->langchain-core) (2.0.7)\n",
            "Requirement already satisfied: exceptiongroup in /usr/local/lib/python3.10/dist-packages (from anyio->httpx<1,>=0.23.0->langsmith<0.2.0,>=0.1.125->langchain-core) (1.2.2)\n",
            "Requirement already satisfied: langchain-openai in /usr/local/lib/python3.10/dist-packages (0.2.0)\n",
            "Requirement already satisfied: langsmith in /usr/local/lib/python3.10/dist-packages (0.1.125)\n",
            "Requirement already satisfied: langchain-core<0.4,>=0.3 in /usr/local/lib/python3.10/dist-packages (from langchain-openai) (0.3.5)\n",
            "Requirement already satisfied: openai<2.0.0,>=1.40.0 in /usr/local/lib/python3.10/dist-packages (from langchain-openai) (1.47.0)\n",
            "Requirement already satisfied: tiktoken<1,>=0.7 in /usr/local/lib/python3.10/dist-packages (from langchain-openai) (0.7.0)\n",
            "Requirement already satisfied: httpx<1,>=0.23.0 in /usr/local/lib/python3.10/dist-packages (from langsmith) (0.27.2)\n",
            "Requirement already satisfied: orjson<4.0.0,>=3.9.14 in /usr/local/lib/python3.10/dist-packages (from langsmith) (3.10.7)\n",
            "Requirement already satisfied: pydantic<3,>=1 in /usr/local/lib/python3.10/dist-packages (from langsmith) (2.9.2)\n",
            "Requirement already satisfied: requests<3,>=2 in /usr/local/lib/python3.10/dist-packages (from langsmith) (2.32.3)\n",
            "Requirement already satisfied: anyio in /usr/local/lib/python3.10/dist-packages (from httpx<1,>=0.23.0->langsmith) (3.7.1)\n",
            "Requirement already satisfied: certifi in /usr/local/lib/python3.10/dist-packages (from httpx<1,>=0.23.0->langsmith) (2024.8.30)\n",
            "Requirement already satisfied: httpcore==1.* in /usr/local/lib/python3.10/dist-packages (from httpx<1,>=0.23.0->langsmith) (1.0.5)\n",
            "Requirement already satisfied: idna in /usr/local/lib/python3.10/dist-packages (from httpx<1,>=0.23.0->langsmith) (3.10)\n",
            "Requirement already satisfied: sniffio in /usr/local/lib/python3.10/dist-packages (from httpx<1,>=0.23.0->langsmith) (1.3.1)\n",
            "Requirement already satisfied: h11<0.15,>=0.13 in /usr/local/lib/python3.10/dist-packages (from httpcore==1.*->httpx<1,>=0.23.0->langsmith) (0.14.0)\n",
            "Requirement already satisfied: PyYAML>=5.3 in /usr/local/lib/python3.10/dist-packages (from langchain-core<0.4,>=0.3->langchain-openai) (6.0.2)\n",
            "Requirement already satisfied: jsonpatch<2.0,>=1.33 in /usr/local/lib/python3.10/dist-packages (from langchain-core<0.4,>=0.3->langchain-openai) (1.33)\n",
            "Requirement already satisfied: packaging<25,>=23.2 in /usr/local/lib/python3.10/dist-packages (from langchain-core<0.4,>=0.3->langchain-openai) (24.1)\n",
            "Requirement already satisfied: tenacity!=8.4.0,<9.0.0,>=8.1.0 in /usr/local/lib/python3.10/dist-packages (from langchain-core<0.4,>=0.3->langchain-openai) (8.5.0)\n",
            "Requirement already satisfied: typing-extensions>=4.7 in /usr/local/lib/python3.10/dist-packages (from langchain-core<0.4,>=0.3->langchain-openai) (4.12.2)\n",
            "Requirement already satisfied: distro<2,>=1.7.0 in /usr/lib/python3/dist-packages (from openai<2.0.0,>=1.40.0->langchain-openai) (1.7.0)\n",
            "Requirement already satisfied: jiter<1,>=0.4.0 in /usr/local/lib/python3.10/dist-packages (from openai<2.0.0,>=1.40.0->langchain-openai) (0.5.0)\n",
            "Requirement already satisfied: tqdm>4 in /usr/local/lib/python3.10/dist-packages (from openai<2.0.0,>=1.40.0->langchain-openai) (4.66.5)\n",
            "Requirement already satisfied: annotated-types>=0.6.0 in /usr/local/lib/python3.10/dist-packages (from pydantic<3,>=1->langsmith) (0.7.0)\n",
            "Requirement already satisfied: pydantic-core==2.23.4 in /usr/local/lib/python3.10/dist-packages (from pydantic<3,>=1->langsmith) (2.23.4)\n",
            "Requirement already satisfied: charset-normalizer<4,>=2 in /usr/local/lib/python3.10/dist-packages (from requests<3,>=2->langsmith) (3.3.2)\n",
            "Requirement already satisfied: urllib3<3,>=1.21.1 in /usr/local/lib/python3.10/dist-packages (from requests<3,>=2->langsmith) (2.0.7)\n",
            "Requirement already satisfied: regex>=2022.1.18 in /usr/local/lib/python3.10/dist-packages (from tiktoken<1,>=0.7->langchain-openai) (2024.9.11)\n",
            "Requirement already satisfied: exceptiongroup in /usr/local/lib/python3.10/dist-packages (from anyio->httpx<1,>=0.23.0->langsmith) (1.2.2)\n",
            "Requirement already satisfied: jsonpointer>=1.9 in /usr/local/lib/python3.10/dist-packages (from jsonpatch<2.0,>=1.33->langchain-core<0.4,>=0.3->langchain-openai) (3.0.0)\n",
            "Requirement already satisfied: langchain_community in /usr/local/lib/python3.10/dist-packages (0.3.0)\n",
            "Requirement already satisfied: PyYAML>=5.3 in /usr/local/lib/python3.10/dist-packages (from langchain_community) (6.0.2)\n",
            "Requirement already satisfied: SQLAlchemy<3,>=1.4 in /usr/local/lib/python3.10/dist-packages (from langchain_community) (2.0.35)\n",
            "Requirement already satisfied: aiohttp<4.0.0,>=3.8.3 in /usr/local/lib/python3.10/dist-packages (from langchain_community) (3.10.5)\n",
            "Requirement already satisfied: dataclasses-json<0.7,>=0.5.7 in /usr/local/lib/python3.10/dist-packages (from langchain_community) (0.6.7)\n",
            "Requirement already satisfied: langchain<0.4.0,>=0.3.0 in /usr/local/lib/python3.10/dist-packages (from langchain_community) (0.3.0)\n",
            "Requirement already satisfied: langchain-core<0.4.0,>=0.3.0 in /usr/local/lib/python3.10/dist-packages (from langchain_community) (0.3.5)\n",
            "Requirement already satisfied: langsmith<0.2.0,>=0.1.112 in /usr/local/lib/python3.10/dist-packages (from langchain_community) (0.1.125)\n",
            "Requirement already satisfied: numpy<2,>=1 in /usr/local/lib/python3.10/dist-packages (from langchain_community) (1.26.4)\n",
            "Requirement already satisfied: pydantic-settings<3.0.0,>=2.4.0 in /usr/local/lib/python3.10/dist-packages (from langchain_community) (2.5.2)\n",
            "Requirement already satisfied: requests<3,>=2 in /usr/local/lib/python3.10/dist-packages (from langchain_community) (2.32.3)\n",
            "Requirement already satisfied: tenacity!=8.4.0,<9.0.0,>=8.1.0 in /usr/local/lib/python3.10/dist-packages (from langchain_community) (8.5.0)\n",
            "Requirement already satisfied: aiohappyeyeballs>=2.3.0 in /usr/local/lib/python3.10/dist-packages (from aiohttp<4.0.0,>=3.8.3->langchain_community) (2.4.0)\n",
            "Requirement already satisfied: aiosignal>=1.1.2 in /usr/local/lib/python3.10/dist-packages (from aiohttp<4.0.0,>=3.8.3->langchain_community) (1.3.1)\n",
            "Requirement already satisfied: attrs>=17.3.0 in /usr/local/lib/python3.10/dist-packages (from aiohttp<4.0.0,>=3.8.3->langchain_community) (24.2.0)\n",
            "Requirement already satisfied: frozenlist>=1.1.1 in /usr/local/lib/python3.10/dist-packages (from aiohttp<4.0.0,>=3.8.3->langchain_community) (1.4.1)\n",
            "Requirement already satisfied: multidict<7.0,>=4.5 in /usr/local/lib/python3.10/dist-packages (from aiohttp<4.0.0,>=3.8.3->langchain_community) (6.1.0)\n",
            "Requirement already satisfied: yarl<2.0,>=1.0 in /usr/local/lib/python3.10/dist-packages (from aiohttp<4.0.0,>=3.8.3->langchain_community) (1.11.1)\n",
            "Requirement already satisfied: async-timeout<5.0,>=4.0 in /usr/local/lib/python3.10/dist-packages (from aiohttp<4.0.0,>=3.8.3->langchain_community) (4.0.3)\n",
            "Requirement already satisfied: marshmallow<4.0.0,>=3.18.0 in /usr/local/lib/python3.10/dist-packages (from dataclasses-json<0.7,>=0.5.7->langchain_community) (3.22.0)\n",
            "Requirement already satisfied: typing-inspect<1,>=0.4.0 in /usr/local/lib/python3.10/dist-packages (from dataclasses-json<0.7,>=0.5.7->langchain_community) (0.9.0)\n",
            "Requirement already satisfied: langchain-text-splitters<0.4.0,>=0.3.0 in /usr/local/lib/python3.10/dist-packages (from langchain<0.4.0,>=0.3.0->langchain_community) (0.3.0)\n",
            "Requirement already satisfied: pydantic<3.0.0,>=2.7.4 in /usr/local/lib/python3.10/dist-packages (from langchain<0.4.0,>=0.3.0->langchain_community) (2.9.2)\n",
            "Requirement already satisfied: jsonpatch<2.0,>=1.33 in /usr/local/lib/python3.10/dist-packages (from langchain-core<0.4.0,>=0.3.0->langchain_community) (1.33)\n",
            "Requirement already satisfied: packaging<25,>=23.2 in /usr/local/lib/python3.10/dist-packages (from langchain-core<0.4.0,>=0.3.0->langchain_community) (24.1)\n",
            "Requirement already satisfied: typing-extensions>=4.7 in /usr/local/lib/python3.10/dist-packages (from langchain-core<0.4.0,>=0.3.0->langchain_community) (4.12.2)\n",
            "Requirement already satisfied: httpx<1,>=0.23.0 in /usr/local/lib/python3.10/dist-packages (from langsmith<0.2.0,>=0.1.112->langchain_community) (0.27.2)\n",
            "Requirement already satisfied: orjson<4.0.0,>=3.9.14 in /usr/local/lib/python3.10/dist-packages (from langsmith<0.2.0,>=0.1.112->langchain_community) (3.10.7)\n",
            "Requirement already satisfied: python-dotenv>=0.21.0 in /usr/local/lib/python3.10/dist-packages (from pydantic-settings<3.0.0,>=2.4.0->langchain_community) (1.0.1)\n",
            "Requirement already satisfied: charset-normalizer<4,>=2 in /usr/local/lib/python3.10/dist-packages (from requests<3,>=2->langchain_community) (3.3.2)\n",
            "Requirement already satisfied: idna<4,>=2.5 in /usr/local/lib/python3.10/dist-packages (from requests<3,>=2->langchain_community) (3.10)\n",
            "Requirement already satisfied: urllib3<3,>=1.21.1 in /usr/local/lib/python3.10/dist-packages (from requests<3,>=2->langchain_community) (2.0.7)\n",
            "Requirement already satisfied: certifi>=2017.4.17 in /usr/local/lib/python3.10/dist-packages (from requests<3,>=2->langchain_community) (2024.8.30)\n",
            "Requirement already satisfied: greenlet!=0.4.17 in /usr/local/lib/python3.10/dist-packages (from SQLAlchemy<3,>=1.4->langchain_community) (3.1.0)\n",
            "Requirement already satisfied: anyio in /usr/local/lib/python3.10/dist-packages (from httpx<1,>=0.23.0->langsmith<0.2.0,>=0.1.112->langchain_community) (3.7.1)\n",
            "Requirement already satisfied: httpcore==1.* in /usr/local/lib/python3.10/dist-packages (from httpx<1,>=0.23.0->langsmith<0.2.0,>=0.1.112->langchain_community) (1.0.5)\n",
            "Requirement already satisfied: sniffio in /usr/local/lib/python3.10/dist-packages (from httpx<1,>=0.23.0->langsmith<0.2.0,>=0.1.112->langchain_community) (1.3.1)\n",
            "Requirement already satisfied: h11<0.15,>=0.13 in /usr/local/lib/python3.10/dist-packages (from httpcore==1.*->httpx<1,>=0.23.0->langsmith<0.2.0,>=0.1.112->langchain_community) (0.14.0)\n",
            "Requirement already satisfied: jsonpointer>=1.9 in /usr/local/lib/python3.10/dist-packages (from jsonpatch<2.0,>=1.33->langchain-core<0.4.0,>=0.3.0->langchain_community) (3.0.0)\n",
            "Requirement already satisfied: annotated-types>=0.6.0 in /usr/local/lib/python3.10/dist-packages (from pydantic<3.0.0,>=2.7.4->langchain<0.4.0,>=0.3.0->langchain_community) (0.7.0)\n",
            "Requirement already satisfied: pydantic-core==2.23.4 in /usr/local/lib/python3.10/dist-packages (from pydantic<3.0.0,>=2.7.4->langchain<0.4.0,>=0.3.0->langchain_community) (2.23.4)\n",
            "Requirement already satisfied: mypy-extensions>=0.3.0 in /usr/local/lib/python3.10/dist-packages (from typing-inspect<1,>=0.4.0->dataclasses-json<0.7,>=0.5.7->langchain_community) (1.0.0)\n",
            "Requirement already satisfied: exceptiongroup in /usr/local/lib/python3.10/dist-packages (from anyio->httpx<1,>=0.23.0->langsmith<0.2.0,>=0.1.112->langchain_community) (1.2.2)\n"
          ]
        }
      ]
    },
    {
      "cell_type": "code",
      "execution_count": 6,
      "metadata": {
        "colab": {
          "base_uri": "https://localhost:8080/"
        },
        "collapsed": true,
        "id": "AszNi_cHNzQm",
        "outputId": "d9b01e6d-1be0-486e-9dc7-d8ea44cac2b0"
      },
      "outputs": [
        {
          "output_type": "stream",
          "name": "stdout",
          "text": [
            "Seoul is a vibrant city with many popular attractions for tourists to visit. Here are the top 3 popular spots in Seoul:\n",
            "\n",
            "1. Gyeongbokgung Palace: This grand palace is one of the most iconic landmarks in Seoul and is a must-visit for any tourist. Visitors can explore the beautiful architecture, learn about Korea's history, and watch the changing of the guard ceremony.\n",
            "\n",
            "2. Myeongdong: This bustling shopping district is a favorite among tourists for its trendy fashion boutiques, delicious street food stalls, and vibrant atmosphere. Visitors can shop for Korean beauty products, try local dishes, and experience the lively street performances.\n",
            "\n",
            "3. N Seoul Tower: Located on Namsan Mountain, N Seoul Tower offers panoramic views of the city skyline and is a popular spot for couples and families. Visitors can take a cable car to the top, visit the observatory deck, and leave their love locks on the fence for good luck.\n",
            "\n",
            "These are just a few of the many amazing attractions that Seoul has to offer. Let me know if you need more information or assistance in planning your trip to Seoul!\n",
            "------------------------------\n",
            "To visit the top tourist spots in Seoul, you have several transportation options available:\n",
            "\n",
            "1. Subway: Seoul has an extensive and efficient subway system that can take you to most major attractions in the city. The subway is easy to navigate, with signs and announcements in English, and it's a cost-effective way to travel around Seoul.\n",
            "\n",
            "2. Bus: Seoul also has a comprehensive bus network that covers the entire city. Buses are a good option if you want to reach specific destinations that may not be easily accessible by subway. You can use T-money cards to pay for bus fares, which can also be used on the subway.\n",
            "\n",
            "3. Taxi: Taxis are widely available in Seoul and can be a convenient option if you prefer door-to-door transportation. Taxis are relatively affordable compared to many other major cities, and most drivers in Seoul speak some English.\n",
            "\n",
            "4. Walking: Some of the popular tourist spots in Seoul, such as Gyeongbokgung Palace and Myeongdong, are located close to each other and can be easily explored on foot. Walking can be a great way to immerse yourself in the city's vibrant atmosphere and discover hidden gems along the way.\n",
            "\n",
            "Depending on your preferences and itinerary, you can choose the transportation option that best suits your needs. Feel free to reach out if you need more specific recommendations or assistance in planning your transportation in Seoul!\n",
            "------------------------------\n",
            "To reach the popular attractions in Seoul such as Gyeongbokgung Palace, Myeongdong, and N Seoul Tower, you can use a combination of public transportation options including the subway, buses, and taxis. Here's a brief overview of how you can get around:\n",
            "\n",
            "1. Subway: Seoul has an extensive and efficient subway system that can take you to most major tourist attractions. You can purchase a T-money card or use a transportation card to easily access the subway network. Gyeongbokgung Palace and Myeongdong are easily accessible by subway.\n",
            "\n",
            "2. Buses: Seoul also has a well-connected bus system that can take you to various parts of the city. You can use the Seoul Bus app to check bus routes and schedules. N Seoul Tower is accessible by bus, and you can take a shuttle bus or a regular bus to reach the base of the tower.\n",
            "\n",
            "3. Taxis: Taxis are also a convenient option for getting around Seoul, especially if you're traveling with family or have luggage. You can easily hail a taxi on the street or use a ride-hailing app like KakaoTaxi or Uber.\n",
            "\n",
            "As for good restaurants for families near these places, here are some recommendations:\n",
            "\n",
            "1. Gyeongbokgung Palace: There are several traditional Korean restaurants in the Gyeongbokgung area where you can enjoy authentic Korean cuisine. Some popular options include Tosokchon (famous for its ginseng chicken soup) and Gogung (known for its bibimbap).\n",
            "\n",
            "2. Myeongdong: Myeongdong is a food paradise with countless options for dining. You can try street food stalls for quick bites or visit restaurants like Myeongdong Kyoja (famous for its dumplings and noodles) or Isaac Toast (known for its delicious sandwiches).\n",
            "\n",
            "3. N Seoul Tower: At the base of N Seoul Tower, you'll find cafes and restaurants offering a variety of cuisines. Some recommended options include The Place Dining (offering Korean and international dishes) and N Grill (a fine dining restaurant with panoramic views).\n",
            "\n",
            "I hope this information helps you plan your trip to Seoul! Let me know if you need more assistance.\n"
          ]
        }
      ],
      "source": [
        "from langchain_openai import ChatOpenAI\n",
        "from langchain_core.messages import HumanMessage, SystemMessage\n",
        "\n",
        "chat = ChatOpenAI(openai_api_key=API_KEY)\n",
        "\n",
        "messages = [\n",
        "    SystemMessage(\n",
        "        content=\"You are the travel agent. You can provide travel itinery to the user\"\n",
        "    ),\n",
        "    HumanMessage(content=\"Where is the top 3 popular space for tourist in Seoul?\"),\n",
        "]\n",
        "\n",
        "aiMessage = chat.invoke(messages)\n",
        "print(aiMessage.content)\n",
        "messages.append(aiMessage)\n",
        "print(\"-\" * 30)\n",
        "\n",
        "messages.append(HumanMessage(content=\"Which transport can I use to visit the places?\"))\n",
        "aiMessage = chat.invoke(messages)\n",
        "print(aiMessage.content)\n",
        "print(\"-\" * 30)\n",
        "\n",
        "messages.append(\n",
        "    HumanMessage(content=\"Where is the good restaurant for family near the placee?\")\n",
        ")\n",
        "aiMessage = chat.invoke(messages)\n",
        "print(aiMessage.content)\n"
      ]
    },
    {
      "cell_type": "markdown",
      "source": [
        "### ChatMessage History"
      ],
      "metadata": {
        "id": "0ph8AcfRSQPA"
      }
    },
    {
      "cell_type": "code",
      "source": [
        "# ChatMessageHistory is used if you are managing memory outside of a chian directly\n",
        "from langchain_community.chat_message_histories import ChatMessageHistory\n",
        "\n",
        "history = ChatMessageHistory()\n",
        "history.add_user_message(\"Where is the top 3 popular space for tourist in Seoul?\")\n",
        "aiMessage = chat.invoke(history.messages)\n",
        "history.add_ai_message(aiMessage.content)\n",
        "print(aiMessage.content)\n",
        "print(\"-\" * 20)\n",
        "\n",
        "history.add_user_message(\"Which transport can I use to visit the places?\")\n",
        "aiMessage = chat.invoke(history.messages)\n",
        "history.add_ai_message(aiMessage.content)\n",
        "print(aiMessage.content)\n"
      ],
      "metadata": {
        "colab": {
          "base_uri": "https://localhost:8080/"
        },
        "collapsed": true,
        "id": "mcEp5geXQtUV",
        "outputId": "91c598bd-1ada-4e9b-f11e-947950561bea"
      },
      "execution_count": 11,
      "outputs": [
        {
          "output_type": "stream",
          "name": "stdout",
          "text": [
            "1. Gyeongbokgung Palace: Gyeongbokgung Palace is a must-visit destination for tourists in Seoul. It is one of the most iconic and largest palaces in South Korea, offering visitors a glimpse into the country's rich history and culture.\n",
            "\n",
            "2. Myeongdong: Myeongdong is a bustling shopping district in Seoul that attracts both locals and tourists. It is known for its vibrant street food scene, trendy fashion boutiques, and skincare shops. Visitors can shop, eat, and explore the lively atmosphere of Myeongdong.\n",
            "\n",
            "3. N Seoul Tower: N Seoul Tower is a popular landmark in Seoul, offering panoramic views of the city from its observation deck. Visitors can take a cable car ride up to the tower, enjoy the views, and explore the surrounding Namsan Park. The tower is also famous for its \"love locks\" where couples can leave a lock as a symbol of their love.\n",
            "--------------------\n",
            "To visit the top tourist spots in Seoul, you can use a combination of public transportation options such as:\n",
            "\n",
            "1. Subway: Seoul has an extensive and efficient subway system that covers most major tourist destinations in the city. You can easily navigate the city using the subway, which is also an affordable and convenient option for getting around.\n",
            "\n",
            "2. Bus: Seoul also has a comprehensive bus network that can take you to various parts of the city, including popular tourist spots. Buses are a good option if you prefer traveling above ground and want to see more of the city while getting to your destination.\n",
            "\n",
            "3. Taxi: Taxis are readily available in Seoul and can be a convenient option for reaching specific destinations or if you prefer a more direct and comfortable mode of transportation. However, taxis can be more expensive compared to public transportation options.\n",
            "\n",
            "4. Walking: Some tourist spots in Seoul, such as Myeongdong and Gyeongbokgung Palace, are located close to each other and can be easily explored on foot. Walking is a great way to immerse yourself in the city's vibrant atmosphere and discover hidden gems along the way.\n",
            "\n",
            "Overall, Seoul offers a variety of transportation options that cater to different preferences and budgets, making it easy to navigate the city and visit its top tourist attractions.\n"
          ]
        }
      ]
    },
    {
      "cell_type": "markdown",
      "source": [
        "### ConversationBufferMemory"
      ],
      "metadata": {
        "id": "Fu1pMPLpoB3L"
      }
    },
    {
      "cell_type": "code",
      "source": [
        "print(history.messages)"
      ],
      "metadata": {
        "colab": {
          "base_uri": "https://localhost:8080/"
        },
        "id": "cRYqgfZJnk0x",
        "outputId": "d2c1d063-4342-4857-a007-16e159d6547c"
      },
      "execution_count": 14,
      "outputs": [
        {
          "output_type": "stream",
          "name": "stdout",
          "text": [
            "[HumanMessage(content='Where is the top 3 popular space for tourist in Seoul?', additional_kwargs={}, response_metadata={}), AIMessage(content='1. Gyeongbokgung Palace: Gyeongbokgung Palace is a must-visit destination for tourists in Seoul. It is one of the most iconic and largest palaces in South Korea, offering visitors a glimpse into the country\\'s rich history and culture.\\n\\n2. Myeongdong: Myeongdong is a bustling shopping district in Seoul that attracts both locals and tourists. It is known for its vibrant street food scene, trendy fashion boutiques, and skincare shops. Visitors can shop, eat, and explore the lively atmosphere of Myeongdong.\\n\\n3. N Seoul Tower: N Seoul Tower is a popular landmark in Seoul, offering panoramic views of the city from its observation deck. Visitors can take a cable car ride up to the tower, enjoy the views, and explore the surrounding Namsan Park. The tower is also famous for its \"love locks\" where couples can leave a lock as a symbol of their love.', additional_kwargs={}, response_metadata={}), HumanMessage(content='Which transport can I use to visit the places?', additional_kwargs={}, response_metadata={}), AIMessage(content=\"To visit the top tourist spots in Seoul, you can use a combination of public transportation options such as:\\n\\n1. Subway: Seoul has an extensive and efficient subway system that covers most major tourist destinations in the city. You can easily navigate the city using the subway, which is also an affordable and convenient option for getting around.\\n\\n2. Bus: Seoul also has a comprehensive bus network that can take you to various parts of the city, including popular tourist spots. Buses are a good option if you prefer traveling above ground and want to see more of the city while getting to your destination.\\n\\n3. Taxi: Taxis are readily available in Seoul and can be a convenient option for reaching specific destinations or if you prefer a more direct and comfortable mode of transportation. However, taxis can be more expensive compared to public transportation options.\\n\\n4. Walking: Some tourist spots in Seoul, such as Myeongdong and Gyeongbokgung Palace, are located close to each other and can be easily explored on foot. Walking is a great way to immerse yourself in the city's vibrant atmosphere and discover hidden gems along the way.\\n\\nOverall, Seoul offers a variety of transportation options that cater to different preferences and budgets, making it easy to navigate the city and visit its top tourist attractions.\", additional_kwargs={}, response_metadata={})]\n"
          ]
        }
      ]
    },
    {
      "cell_type": "code",
      "source": [
        "from langchain.memory import ConversationBufferMemory\n",
        "\n",
        "memory = ConversationBufferMemory()\n",
        "#memory = ConversationBufferMemory(return_messages=True)\n",
        "\n",
        "chat = ChatOpenAI(openai_api_key=API_KEY)\n",
        "\n",
        "memory.save_context(\n",
        "    inputs={\n",
        "        \"human\": \"안녕하세요, 비대면으로 은행 계좌를 개설하고 싶습니다. 어떻게 시작해야 하나요?\"\n",
        "    },\n",
        "    outputs={\n",
        "        \"ai\": \"안녕하세요! 계좌 개설을 원하신다니 기쁩니다. 먼저, 본인 인증을 위해 신분증을 준비해 주시겠어요?\"\n",
        "    }\n",
        ")\n",
        "\n",
        "memory.save_context(\n",
        "    inputs={\"human\": \"네, 신분증을 준비했습니다. 이제 무엇을 해야 하나요?\"},\n",
        "    outputs={\n",
        "        \"ai\": \"감사합니다. 신분증 앞뒤를 명확하게 촬영하여 업로드해 주세요. 이후 본인 인증 절차를 진행하겠습니다.\"\n",
        "    },\n",
        ")\n",
        "\n",
        "memory.save_context(\n",
        "    inputs={\"human\": \"사진을 업로드했습니다. 본인 인증은 어떻게 진행되나요?\"},\n",
        "    outputs={\n",
        "        \"ai\": \"업로드해 주신 사진을 확인했습니다. 이제 휴대폰을 통한 본인 인증을 진행해 주세요. 문자로 발송된 인증번호를 입력해 주시면 됩니다.\"\n",
        "    },\n",
        ")\n",
        "\n",
        "memory.save_context(\n",
        "    inputs={\"human\": \"인증번호를 입력했습니다. 계좌 개설은 이제 어떻게 하나요?\"},\n",
        "    outputs={\n",
        "        \"ai\": \"본인 인증이 완료되었습니다. 이제 원하시는 계좌 종류를 선택하고 필요한 정보를 입력해 주세요. 예금 종류, 통화 종류 등을 선택할 수 있습니다.\"\n",
        "    },\n",
        ")\n",
        "\n",
        "memory.save_context(\n",
        "    inputs={\"human\": \"정보를 모두 입력했습니다. 다음 단계는 무엇인가요?\"},\n",
        "    outputs={\n",
        "        \"ai\": \"입력해 주신 정보를 확인했습니다. 계좌 개설 절차가 거의 끝났습니다. 마지막으로 이용 약관에 동의해 주시고, 계좌 개설을 최종 확인해 주세요.\"\n",
        "    },\n",
        ")\n",
        "\n",
        "memory.save_context(\n",
        "    inputs={\"human\": \"모든 절차를 완료했습니다. 계좌가 개설된 건가요?\"},\n",
        "    outputs={\n",
        "        \"ai\": \"네, 계좌 개설이 완료되었습니다. 고객님의 계좌 번호와 관련 정보는 등록하신 이메일로 발송되었습니다. 추가적인 도움이 필요하시면 언제든지 문의해 주세요. 감사합니다!\"\n",
        "    },\n",
        ")\n",
        "\n",
        "#memory.load_memory_variables({})\n",
        "print(memory.load_memory_variables({})[\"history\"])\n"
      ],
      "metadata": {
        "colab": {
          "base_uri": "https://localhost:8080/"
        },
        "id": "4Wgk3ppDn-tM",
        "outputId": "ba43db2d-79a8-4c46-920d-9265f515ac05"
      },
      "execution_count": 35,
      "outputs": [
        {
          "output_type": "stream",
          "name": "stdout",
          "text": [
            "Human: 안녕하세요, 비대면으로 은행 계좌를 개설하고 싶습니다. 어떻게 시작해야 하나요?\n",
            "AI: 안녕하세요! 계좌 개설을 원하신다니 기쁩니다. 먼저, 본인 인증을 위해 신분증을 준비해 주시겠어요?\n",
            "Human: 네, 신분증을 준비했습니다. 이제 무엇을 해야 하나요?\n",
            "AI: 감사합니다. 신분증 앞뒤를 명확하게 촬영하여 업로드해 주세요. 이후 본인 인증 절차를 진행하겠습니다.\n",
            "Human: 사진을 업로드했습니다. 본인 인증은 어떻게 진행되나요?\n",
            "AI: 업로드해 주신 사진을 확인했습니다. 이제 휴대폰을 통한 본인 인증을 진행해 주세요. 문자로 발송된 인증번호를 입력해 주시면 됩니다.\n",
            "Human: 인증번호를 입력했습니다. 계좌 개설은 이제 어떻게 하나요?\n",
            "AI: 본인 인증이 완료되었습니다. 이제 원하시는 계좌 종류를 선택하고 필요한 정보를 입력해 주세요. 예금 종류, 통화 종류 등을 선택할 수 있습니다.\n",
            "Human: 정보를 모두 입력했습니다. 다음 단계는 무엇인가요?\n",
            "AI: 입력해 주신 정보를 확인했습니다. 계좌 개설 절차가 거의 끝났습니다. 마지막으로 이용 약관에 동의해 주시고, 계좌 개설을 최종 확인해 주세요.\n",
            "Human: 모든 절차를 완료했습니다. 계좌가 개설된 건가요?\n",
            "AI: 네, 계좌 개설이 완료되었습니다. 고객님의 계좌 번호와 관련 정보는 등록하신 이메일로 발송되었습니다. 추가적인 도움이 필요하시면 언제든지 문의해 주세요. 감사합니다!\n"
          ]
        }
      ]
    },
    {
      "cell_type": "code",
      "source": [
        "from langchain_openai import ChatOpenAI\n",
        "from langchain.chains import ConversationChain\n",
        "\n",
        "# LLM 모델을 생성합니다.\n",
        "llm = ChatOpenAI(openai_api_key=API_KEY, temperature=0)\n",
        "\n",
        "# ConversationChain을 생성합니다.\n",
        "conversation = ConversationChain(\n",
        "    # ConversationBufferMemory를 사용합니다.\n",
        "    llm=llm,\n",
        "    memory=memory,\n",
        ")\n",
        "\n",
        "response = conversation.predict(\n",
        "    input=\"안녕하세요, 비대면으로 은행 계좌를 개설하고 싶습니다. 어떻게 시작?\"\n",
        ")\n",
        "print(response)\n",
        "\n",
        "response = conversation.predict(\n",
        "    input=\"이전 답변을 불렛포인트 형식으로 정리하여 알려주세요.\"\n",
        ")\n",
        "print(response)\n"
      ],
      "metadata": {
        "colab": {
          "base_uri": "https://localhost:8080/"
        },
        "id": "QR80SMqTuNED",
        "outputId": "65a5f861-14f8-4f90-d904-f395eb4a812d"
      },
      "execution_count": 39,
      "outputs": [
        {
          "output_type": "stream",
          "name": "stdout",
          "text": [
            "안녕하세요! 계좌 개설을 원하시는군요. 먼저, 본인 인증을 위해 신분증을 준비해 주세요. 제가 도와드리겠습니다. 계좌 개설을 위한 절차를 안내해 드릴테니 차근차근 진행해 보세요.\n",
            "1. 본인 인증을 위해 신분증을 준비해 주세요.\n",
            "2. 신분증 앞뒤를 명확하게 촬영하여 업로드해 주세요.\n",
            "3. 휴대폰을 통한 본인 인증을 진행해 주세요.\n",
            "4. 계좌 종류 선택 및 필요 정보 입력.\n",
            "5. 이용 약관에 동의하고 계좌 개설 최종 확인.\n",
            "6. 계좌 개설 완료 후 이메일로 정보 발송.\n",
            "7. 추가 도움이 필요하면 언제든지 문의해 주세요.\n"
          ]
        }
      ]
    }
  ]
}