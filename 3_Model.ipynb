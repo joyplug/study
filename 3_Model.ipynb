{
  "nbformat": 4,
  "nbformat_minor": 0,
  "metadata": {
    "colab": {
      "provenance": [],
      "authorship_tag": "ABX9TyOCKwF4X08bcAasLIwRjSOX",
      "include_colab_link": true
    },
    "kernelspec": {
      "name": "python3",
      "display_name": "Python 3"
    },
    "language_info": {
      "name": "python"
    }
  },
  "cells": [
    {
      "cell_type": "markdown",
      "metadata": {
        "id": "view-in-github",
        "colab_type": "text"
      },
      "source": [
        "<a href=\"https://colab.research.google.com/github/joyplug/study/blob/main/3_Model.ipynb\" target=\"_parent\"><img src=\"https://colab.research.google.com/assets/colab-badge.svg\" alt=\"Open In Colab\"/></a>"
      ]
    },
    {
      "cell_type": "code",
      "source": [
        "!python -V\n",
        "!pip install --upgrade langchain-core\n",
        "!pip install --upgrade langchain-openai langsmith\n",
        "!pip install --upgrade langchain_community\n",
        "!pip install redis\n",
        "API_KEY = \"\"\n",
        "REDIS_HOST = \"\"\n",
        "REDIS_PASSWORD = \"\"\n",
        "REDIS_PORT = 15792"
      ],
      "metadata": {
        "colab": {
          "base_uri": "https://localhost:8080/"
        },
        "collapsed": true,
        "id": "tWXI-MJuE4Yr",
        "outputId": "b1b3a04d-01a3-4c7a-91bf-7c2aa4ba834a"
      },
      "execution_count": 35,
      "outputs": [
        {
          "output_type": "stream",
          "name": "stdout",
          "text": [
            "Python 3.10.12\n",
            "Requirement already satisfied: langchain-core in /usr/local/lib/python3.10/dist-packages (0.3.5)\n",
            "Requirement already satisfied: PyYAML>=5.3 in /usr/local/lib/python3.10/dist-packages (from langchain-core) (6.0.2)\n",
            "Requirement already satisfied: jsonpatch<2.0,>=1.33 in /usr/local/lib/python3.10/dist-packages (from langchain-core) (1.33)\n",
            "Requirement already satisfied: langsmith<0.2.0,>=0.1.125 in /usr/local/lib/python3.10/dist-packages (from langchain-core) (0.1.125)\n",
            "Requirement already satisfied: packaging<25,>=23.2 in /usr/local/lib/python3.10/dist-packages (from langchain-core) (24.1)\n",
            "Requirement already satisfied: pydantic<3.0.0,>=2.5.2 in /usr/local/lib/python3.10/dist-packages (from langchain-core) (2.9.2)\n",
            "Requirement already satisfied: tenacity!=8.4.0,<9.0.0,>=8.1.0 in /usr/local/lib/python3.10/dist-packages (from langchain-core) (8.5.0)\n",
            "Requirement already satisfied: typing-extensions>=4.7 in /usr/local/lib/python3.10/dist-packages (from langchain-core) (4.12.2)\n",
            "Requirement already satisfied: jsonpointer>=1.9 in /usr/local/lib/python3.10/dist-packages (from jsonpatch<2.0,>=1.33->langchain-core) (3.0.0)\n",
            "Requirement already satisfied: httpx<1,>=0.23.0 in /usr/local/lib/python3.10/dist-packages (from langsmith<0.2.0,>=0.1.125->langchain-core) (0.27.2)\n",
            "Requirement already satisfied: orjson<4.0.0,>=3.9.14 in /usr/local/lib/python3.10/dist-packages (from langsmith<0.2.0,>=0.1.125->langchain-core) (3.10.7)\n",
            "Requirement already satisfied: requests<3,>=2 in /usr/local/lib/python3.10/dist-packages (from langsmith<0.2.0,>=0.1.125->langchain-core) (2.32.3)\n",
            "Requirement already satisfied: annotated-types>=0.6.0 in /usr/local/lib/python3.10/dist-packages (from pydantic<3.0.0,>=2.5.2->langchain-core) (0.7.0)\n",
            "Requirement already satisfied: pydantic-core==2.23.4 in /usr/local/lib/python3.10/dist-packages (from pydantic<3.0.0,>=2.5.2->langchain-core) (2.23.4)\n",
            "Requirement already satisfied: anyio in /usr/local/lib/python3.10/dist-packages (from httpx<1,>=0.23.0->langsmith<0.2.0,>=0.1.125->langchain-core) (3.7.1)\n",
            "Requirement already satisfied: certifi in /usr/local/lib/python3.10/dist-packages (from httpx<1,>=0.23.0->langsmith<0.2.0,>=0.1.125->langchain-core) (2024.8.30)\n",
            "Requirement already satisfied: httpcore==1.* in /usr/local/lib/python3.10/dist-packages (from httpx<1,>=0.23.0->langsmith<0.2.0,>=0.1.125->langchain-core) (1.0.5)\n",
            "Requirement already satisfied: idna in /usr/local/lib/python3.10/dist-packages (from httpx<1,>=0.23.0->langsmith<0.2.0,>=0.1.125->langchain-core) (3.10)\n",
            "Requirement already satisfied: sniffio in /usr/local/lib/python3.10/dist-packages (from httpx<1,>=0.23.0->langsmith<0.2.0,>=0.1.125->langchain-core) (1.3.1)\n",
            "Requirement already satisfied: h11<0.15,>=0.13 in /usr/local/lib/python3.10/dist-packages (from httpcore==1.*->httpx<1,>=0.23.0->langsmith<0.2.0,>=0.1.125->langchain-core) (0.14.0)\n",
            "Requirement already satisfied: charset-normalizer<4,>=2 in /usr/local/lib/python3.10/dist-packages (from requests<3,>=2->langsmith<0.2.0,>=0.1.125->langchain-core) (3.3.2)\n",
            "Requirement already satisfied: urllib3<3,>=1.21.1 in /usr/local/lib/python3.10/dist-packages (from requests<3,>=2->langsmith<0.2.0,>=0.1.125->langchain-core) (2.0.7)\n",
            "Requirement already satisfied: exceptiongroup in /usr/local/lib/python3.10/dist-packages (from anyio->httpx<1,>=0.23.0->langsmith<0.2.0,>=0.1.125->langchain-core) (1.2.2)\n",
            "Requirement already satisfied: langchain-openai in /usr/local/lib/python3.10/dist-packages (0.2.0)\n",
            "Requirement already satisfied: langsmith in /usr/local/lib/python3.10/dist-packages (0.1.125)\n",
            "Requirement already satisfied: langchain-core<0.4,>=0.3 in /usr/local/lib/python3.10/dist-packages (from langchain-openai) (0.3.5)\n",
            "Requirement already satisfied: openai<2.0.0,>=1.40.0 in /usr/local/lib/python3.10/dist-packages (from langchain-openai) (1.47.0)\n",
            "Requirement already satisfied: tiktoken<1,>=0.7 in /usr/local/lib/python3.10/dist-packages (from langchain-openai) (0.7.0)\n",
            "Requirement already satisfied: httpx<1,>=0.23.0 in /usr/local/lib/python3.10/dist-packages (from langsmith) (0.27.2)\n",
            "Requirement already satisfied: orjson<4.0.0,>=3.9.14 in /usr/local/lib/python3.10/dist-packages (from langsmith) (3.10.7)\n",
            "Requirement already satisfied: pydantic<3,>=1 in /usr/local/lib/python3.10/dist-packages (from langsmith) (2.9.2)\n",
            "Requirement already satisfied: requests<3,>=2 in /usr/local/lib/python3.10/dist-packages (from langsmith) (2.32.3)\n",
            "Requirement already satisfied: anyio in /usr/local/lib/python3.10/dist-packages (from httpx<1,>=0.23.0->langsmith) (3.7.1)\n",
            "Requirement already satisfied: certifi in /usr/local/lib/python3.10/dist-packages (from httpx<1,>=0.23.0->langsmith) (2024.8.30)\n",
            "Requirement already satisfied: httpcore==1.* in /usr/local/lib/python3.10/dist-packages (from httpx<1,>=0.23.0->langsmith) (1.0.5)\n",
            "Requirement already satisfied: idna in /usr/local/lib/python3.10/dist-packages (from httpx<1,>=0.23.0->langsmith) (3.10)\n",
            "Requirement already satisfied: sniffio in /usr/local/lib/python3.10/dist-packages (from httpx<1,>=0.23.0->langsmith) (1.3.1)\n",
            "Requirement already satisfied: h11<0.15,>=0.13 in /usr/local/lib/python3.10/dist-packages (from httpcore==1.*->httpx<1,>=0.23.0->langsmith) (0.14.0)\n",
            "Requirement already satisfied: PyYAML>=5.3 in /usr/local/lib/python3.10/dist-packages (from langchain-core<0.4,>=0.3->langchain-openai) (6.0.2)\n",
            "Requirement already satisfied: jsonpatch<2.0,>=1.33 in /usr/local/lib/python3.10/dist-packages (from langchain-core<0.4,>=0.3->langchain-openai) (1.33)\n",
            "Requirement already satisfied: packaging<25,>=23.2 in /usr/local/lib/python3.10/dist-packages (from langchain-core<0.4,>=0.3->langchain-openai) (24.1)\n",
            "Requirement already satisfied: tenacity!=8.4.0,<9.0.0,>=8.1.0 in /usr/local/lib/python3.10/dist-packages (from langchain-core<0.4,>=0.3->langchain-openai) (8.5.0)\n",
            "Requirement already satisfied: typing-extensions>=4.7 in /usr/local/lib/python3.10/dist-packages (from langchain-core<0.4,>=0.3->langchain-openai) (4.12.2)\n",
            "Requirement already satisfied: distro<2,>=1.7.0 in /usr/lib/python3/dist-packages (from openai<2.0.0,>=1.40.0->langchain-openai) (1.7.0)\n",
            "Requirement already satisfied: jiter<1,>=0.4.0 in /usr/local/lib/python3.10/dist-packages (from openai<2.0.0,>=1.40.0->langchain-openai) (0.5.0)\n",
            "Requirement already satisfied: tqdm>4 in /usr/local/lib/python3.10/dist-packages (from openai<2.0.0,>=1.40.0->langchain-openai) (4.66.5)\n",
            "Requirement already satisfied: annotated-types>=0.6.0 in /usr/local/lib/python3.10/dist-packages (from pydantic<3,>=1->langsmith) (0.7.0)\n",
            "Requirement already satisfied: pydantic-core==2.23.4 in /usr/local/lib/python3.10/dist-packages (from pydantic<3,>=1->langsmith) (2.23.4)\n",
            "Requirement already satisfied: charset-normalizer<4,>=2 in /usr/local/lib/python3.10/dist-packages (from requests<3,>=2->langsmith) (3.3.2)\n",
            "Requirement already satisfied: urllib3<3,>=1.21.1 in /usr/local/lib/python3.10/dist-packages (from requests<3,>=2->langsmith) (2.0.7)\n",
            "Requirement already satisfied: regex>=2022.1.18 in /usr/local/lib/python3.10/dist-packages (from tiktoken<1,>=0.7->langchain-openai) (2024.9.11)\n",
            "Requirement already satisfied: exceptiongroup in /usr/local/lib/python3.10/dist-packages (from anyio->httpx<1,>=0.23.0->langsmith) (1.2.2)\n",
            "Requirement already satisfied: jsonpointer>=1.9 in /usr/local/lib/python3.10/dist-packages (from jsonpatch<2.0,>=1.33->langchain-core<0.4,>=0.3->langchain-openai) (3.0.0)\n",
            "Requirement already satisfied: langchain_community in /usr/local/lib/python3.10/dist-packages (0.3.0)\n",
            "Requirement already satisfied: PyYAML>=5.3 in /usr/local/lib/python3.10/dist-packages (from langchain_community) (6.0.2)\n",
            "Requirement already satisfied: SQLAlchemy<3,>=1.4 in /usr/local/lib/python3.10/dist-packages (from langchain_community) (2.0.35)\n",
            "Requirement already satisfied: aiohttp<4.0.0,>=3.8.3 in /usr/local/lib/python3.10/dist-packages (from langchain_community) (3.10.5)\n",
            "Requirement already satisfied: dataclasses-json<0.7,>=0.5.7 in /usr/local/lib/python3.10/dist-packages (from langchain_community) (0.6.7)\n",
            "Requirement already satisfied: langchain<0.4.0,>=0.3.0 in /usr/local/lib/python3.10/dist-packages (from langchain_community) (0.3.0)\n",
            "Requirement already satisfied: langchain-core<0.4.0,>=0.3.0 in /usr/local/lib/python3.10/dist-packages (from langchain_community) (0.3.5)\n",
            "Requirement already satisfied: langsmith<0.2.0,>=0.1.112 in /usr/local/lib/python3.10/dist-packages (from langchain_community) (0.1.125)\n",
            "Requirement already satisfied: numpy<2,>=1 in /usr/local/lib/python3.10/dist-packages (from langchain_community) (1.26.4)\n",
            "Requirement already satisfied: pydantic-settings<3.0.0,>=2.4.0 in /usr/local/lib/python3.10/dist-packages (from langchain_community) (2.5.2)\n",
            "Requirement already satisfied: requests<3,>=2 in /usr/local/lib/python3.10/dist-packages (from langchain_community) (2.32.3)\n",
            "Requirement already satisfied: tenacity!=8.4.0,<9.0.0,>=8.1.0 in /usr/local/lib/python3.10/dist-packages (from langchain_community) (8.5.0)\n",
            "Requirement already satisfied: aiohappyeyeballs>=2.3.0 in /usr/local/lib/python3.10/dist-packages (from aiohttp<4.0.0,>=3.8.3->langchain_community) (2.4.0)\n",
            "Requirement already satisfied: aiosignal>=1.1.2 in /usr/local/lib/python3.10/dist-packages (from aiohttp<4.0.0,>=3.8.3->langchain_community) (1.3.1)\n",
            "Requirement already satisfied: attrs>=17.3.0 in /usr/local/lib/python3.10/dist-packages (from aiohttp<4.0.0,>=3.8.3->langchain_community) (24.2.0)\n",
            "Requirement already satisfied: frozenlist>=1.1.1 in /usr/local/lib/python3.10/dist-packages (from aiohttp<4.0.0,>=3.8.3->langchain_community) (1.4.1)\n",
            "Requirement already satisfied: multidict<7.0,>=4.5 in /usr/local/lib/python3.10/dist-packages (from aiohttp<4.0.0,>=3.8.3->langchain_community) (6.1.0)\n",
            "Requirement already satisfied: yarl<2.0,>=1.0 in /usr/local/lib/python3.10/dist-packages (from aiohttp<4.0.0,>=3.8.3->langchain_community) (1.11.1)\n",
            "Requirement already satisfied: async-timeout<5.0,>=4.0 in /usr/local/lib/python3.10/dist-packages (from aiohttp<4.0.0,>=3.8.3->langchain_community) (4.0.3)\n",
            "Requirement already satisfied: marshmallow<4.0.0,>=3.18.0 in /usr/local/lib/python3.10/dist-packages (from dataclasses-json<0.7,>=0.5.7->langchain_community) (3.22.0)\n",
            "Requirement already satisfied: typing-inspect<1,>=0.4.0 in /usr/local/lib/python3.10/dist-packages (from dataclasses-json<0.7,>=0.5.7->langchain_community) (0.9.0)\n",
            "Requirement already satisfied: langchain-text-splitters<0.4.0,>=0.3.0 in /usr/local/lib/python3.10/dist-packages (from langchain<0.4.0,>=0.3.0->langchain_community) (0.3.0)\n",
            "Requirement already satisfied: pydantic<3.0.0,>=2.7.4 in /usr/local/lib/python3.10/dist-packages (from langchain<0.4.0,>=0.3.0->langchain_community) (2.9.2)\n",
            "Requirement already satisfied: jsonpatch<2.0,>=1.33 in /usr/local/lib/python3.10/dist-packages (from langchain-core<0.4.0,>=0.3.0->langchain_community) (1.33)\n",
            "Requirement already satisfied: packaging<25,>=23.2 in /usr/local/lib/python3.10/dist-packages (from langchain-core<0.4.0,>=0.3.0->langchain_community) (24.1)\n",
            "Requirement already satisfied: typing-extensions>=4.7 in /usr/local/lib/python3.10/dist-packages (from langchain-core<0.4.0,>=0.3.0->langchain_community) (4.12.2)\n",
            "Requirement already satisfied: httpx<1,>=0.23.0 in /usr/local/lib/python3.10/dist-packages (from langsmith<0.2.0,>=0.1.112->langchain_community) (0.27.2)\n",
            "Requirement already satisfied: orjson<4.0.0,>=3.9.14 in /usr/local/lib/python3.10/dist-packages (from langsmith<0.2.0,>=0.1.112->langchain_community) (3.10.7)\n",
            "Requirement already satisfied: python-dotenv>=0.21.0 in /usr/local/lib/python3.10/dist-packages (from pydantic-settings<3.0.0,>=2.4.0->langchain_community) (1.0.1)\n",
            "Requirement already satisfied: charset-normalizer<4,>=2 in /usr/local/lib/python3.10/dist-packages (from requests<3,>=2->langchain_community) (3.3.2)\n",
            "Requirement already satisfied: idna<4,>=2.5 in /usr/local/lib/python3.10/dist-packages (from requests<3,>=2->langchain_community) (3.10)\n",
            "Requirement already satisfied: urllib3<3,>=1.21.1 in /usr/local/lib/python3.10/dist-packages (from requests<3,>=2->langchain_community) (2.0.7)\n",
            "Requirement already satisfied: certifi>=2017.4.17 in /usr/local/lib/python3.10/dist-packages (from requests<3,>=2->langchain_community) (2024.8.30)\n",
            "Requirement already satisfied: greenlet!=0.4.17 in /usr/local/lib/python3.10/dist-packages (from SQLAlchemy<3,>=1.4->langchain_community) (3.1.0)\n",
            "Requirement already satisfied: anyio in /usr/local/lib/python3.10/dist-packages (from httpx<1,>=0.23.0->langsmith<0.2.0,>=0.1.112->langchain_community) (3.7.1)\n",
            "Requirement already satisfied: httpcore==1.* in /usr/local/lib/python3.10/dist-packages (from httpx<1,>=0.23.0->langsmith<0.2.0,>=0.1.112->langchain_community) (1.0.5)\n",
            "Requirement already satisfied: sniffio in /usr/local/lib/python3.10/dist-packages (from httpx<1,>=0.23.0->langsmith<0.2.0,>=0.1.112->langchain_community) (1.3.1)\n",
            "Requirement already satisfied: h11<0.15,>=0.13 in /usr/local/lib/python3.10/dist-packages (from httpcore==1.*->httpx<1,>=0.23.0->langsmith<0.2.0,>=0.1.112->langchain_community) (0.14.0)\n",
            "Requirement already satisfied: jsonpointer>=1.9 in /usr/local/lib/python3.10/dist-packages (from jsonpatch<2.0,>=1.33->langchain-core<0.4.0,>=0.3.0->langchain_community) (3.0.0)\n",
            "Requirement already satisfied: annotated-types>=0.6.0 in /usr/local/lib/python3.10/dist-packages (from pydantic<3.0.0,>=2.7.4->langchain<0.4.0,>=0.3.0->langchain_community) (0.7.0)\n",
            "Requirement already satisfied: pydantic-core==2.23.4 in /usr/local/lib/python3.10/dist-packages (from pydantic<3.0.0,>=2.7.4->langchain<0.4.0,>=0.3.0->langchain_community) (2.23.4)\n",
            "Requirement already satisfied: mypy-extensions>=0.3.0 in /usr/local/lib/python3.10/dist-packages (from typing-inspect<1,>=0.4.0->dataclasses-json<0.7,>=0.5.7->langchain_community) (1.0.0)\n",
            "Requirement already satisfied: exceptiongroup in /usr/local/lib/python3.10/dist-packages (from anyio->httpx<1,>=0.23.0->langsmith<0.2.0,>=0.1.112->langchain_community) (1.2.2)\n",
            "Requirement already satisfied: redis in /usr/local/lib/python3.10/dist-packages (5.0.8)\n",
            "Requirement already satisfied: async-timeout>=4.0.3 in /usr/local/lib/python3.10/dist-packages (from redis) (4.0.3)\n"
          ]
        }
      ]
    },
    {
      "cell_type": "markdown",
      "source": [
        "# Sync Invoke"
      ],
      "metadata": {
        "id": "peYPDRnyEoMe"
      }
    },
    {
      "cell_type": "code",
      "source": [
        "# Invoke\n",
        "from langchain_openai import OpenAI\n",
        "\n",
        "# OpenAI ChatGPT LLM Inistialization part\n",
        "llm = OpenAI(\n",
        "    openai_api_key=API_KEY,\n",
        "    model_name=\"gpt-3.5-turbo-instruct\",\n",
        "    temperature=0.8,\n",
        ")\n",
        "prompt = \"What is famous street foods in Seoul Korea in 200 characters\"\n",
        "llm.invoke(prompt)"
      ],
      "metadata": {
        "colab": {
          "base_uri": "https://localhost:8080/",
          "height": 72
        },
        "id": "nN4-RaS-EvYG",
        "outputId": "2919c4a1-66b6-4a97-c847-90b4d99d1798",
        "collapsed": true
      },
      "execution_count": 17,
      "outputs": [
        {
          "output_type": "execute_result",
          "data": {
            "text/plain": [
              "\"\\n\\n1. Tteokbokki (spicy rice cakes)\\n2. Korean Fried Chicken\\n3. Kimbap (seaweed rice rolls)\\n4. Jokbal (pig's feet)\\n5. Mandu (dumplings)\\n6. Eomuk (fish cakes)\\n7. Hotteok (sweet pancakes)\\n8. Sundae (blood sausage)\\n9. Gyeran-ppang (egg bread)\\n10. Odeng (fish cake skewers)\\n11. Twigim (deep-fried snacks)\\n12. Samgyeopsal (grilled pork belly)\\n13. Bungeoppang (fish-shaped waffle)\\n14. Bossam (boiled pork wraps)\\n15. Gamjatang (spicy pork bone stew)\""
            ],
            "application/vnd.google.colaboratory.intrinsic+json": {
              "type": "string"
            }
          },
          "metadata": {},
          "execution_count": 17
        }
      ]
    },
    {
      "cell_type": "markdown",
      "source": [
        "# Batch"
      ],
      "metadata": {
        "id": "20cWURlBFxKc"
      }
    },
    {
      "cell_type": "code",
      "source": [
        "# Batch\n",
        "prompts = [\n",
        "    \"What is top 5 Korean Street food?\",\n",
        "    \"What is most famous place in Seoul?\",\n",
        "    \"What is the popular K-Pop group?\",\n",
        "]\n",
        "llm.batch(prompts)"
      ],
      "metadata": {
        "colab": {
          "base_uri": "https://localhost:8080/"
        },
        "id": "_Zj46mr-F095",
        "outputId": "ba341734-dc6b-496b-90b6-0e0c3f62e418",
        "collapsed": true
      },
      "execution_count": 5,
      "outputs": [
        {
          "output_type": "execute_result",
          "data": {
            "text/plain": [
              "['\\n1. Tteokbokki (spicy rice cakes)\\n2. Hotteok (sweet filled pancakes)\\n3. Eomuk (fish cake skewers)\\n4. Gimbap (Korean sushi rolls)\\n5. Twigim (Korean fried snacks, such as fried chicken or vegetables)',\n",
              " '\\n\\nThe most famous place in Seoul is probably the Gyeongbokgung Palace, which is the largest and most iconic palace in South Korea. It was built in 1395 during the Joseon Dynasty and is known for its beautiful architecture, traditional gardens, and historical significance. The palace is a popular tourist destination and a must-see for visitors to Seoul. Other popular places in Seoul include N Seoul Tower, Myeongdong shopping district, and the Dongdaemun Design Plaza.',\n",
              " '\\n\\nOne of the most popular K-Pop groups is BTS (also known as Bangtan Boys). Other popular groups include Blackpink, Twice, EXO, and Red Velvet.']"
            ]
          },
          "metadata": {},
          "execution_count": 5
        }
      ]
    },
    {
      "cell_type": "code",
      "source": [
        "# Stream\n",
        "prompt = \"What is famous street foods in Seoul Korea in 200 characters\"\n",
        "for chunk in llm.stream(prompt):\n",
        "    print(chunk, end=\"\", flush=True)\n",
        "    # end=\"\"는 출력 후 줄바꿈을 하지 않고 계속해서 같은 줄에 결과를 붙여나가도록 한다.\n",
        "    # flush=True는 출력이 지연되지 않고 바로바로 출력되도록 강제하는 옵션이다.\n",
        "    # 이를 통해 chunk가 처리될 때마다 즉시 출력되도록 설정한다."
      ],
      "metadata": {
        "colab": {
          "base_uri": "https://localhost:8080/"
        },
        "id": "v7duHXiwGLcK",
        "outputId": "43cde5aa-ed91-468c-dd26-29418472da82",
        "collapsed": true
      },
      "execution_count": 6,
      "outputs": [
        {
          "output_type": "stream",
          "name": "stdout",
          "text": [
            "\n",
            "\n",
            "1. Tteokbokki: Spicy rice cakes served with fish cakes and vegetables\n",
            "2. Kimbap: Rice rolls with various fillings, similar to sushi\n",
            "3. Jjigae: Traditional stew with meat, tofu, and vegetables\n",
            "4. Mandu: Fried or steamed dumplings filled with meat and vegetables\n",
            "5. Gimbap: Grilled skewers of meat or vegetables, often served with a spicy sauce\n",
            "6. Hotteok: Sweet, pancake-like dessert stuffed with brown sugar and nuts\n",
            "7. Sundae: Blood sausage filled with glass noodles and vegetables\n",
            "8. Pajeon: Savory pancake made with green onions and seafood\n",
            "9. Twigim: Assorted deep-fried snacks, including vegetables, seafood, and meat\n",
            "10. Odeng: Fish cakes served in a hot broth or on a stick."
          ]
        }
      ]
    },
    {
      "cell_type": "markdown",
      "source": [
        "# Async"
      ],
      "metadata": {
        "id": "VZCg_NWaGlij"
      }
    },
    {
      "cell_type": "code",
      "source": [
        "import asyncio  # 비동기 작업을 위한 asyncio 모듈을 임포트\n",
        "import time     # 실행 시간을 측정하기 위한 time 모듈을 임포트\n",
        "\n",
        "# 사용자에게 전달할 프롬프트를 정의\n",
        "prompt = \"What is famous Korean food? Explain in 50 characters\"\n",
        "\n",
        "# 비동기 호출을 위한 함수 정의\n",
        "# llm 객체가 제공하는 ainvoke 메서드를 비동기로 호출하여 프롬프트에 대한 결과를 받아온다.\n",
        "async def invoke_async(llm):\n",
        "    # llm.ainvoke() 메서드가 비동기 방식으로 프롬프트에 대한 결과를 반환\n",
        "    result = await llm.ainvoke(prompt)\n",
        "    # 결과 출력\n",
        "    print(result)\n",
        "\n",
        "# 여러 비동기 호출을 병렬로 실행하기 위한 함수 정의\n",
        "async def invoke_parallel():\n",
        "    # invoke_async 함수를 10번 병렬로 실행하기 위한 태스크 리스트를 만든다.\n",
        "    tasks = [invoke_async(llm) for _ in range(10)]\n",
        "    # asyncio.gather()를 사용하여 10개의 비동기 태스크를 병렬로 실행\n",
        "    await asyncio.gather(*tasks)\n",
        "\n",
        "# 비동기 호출의 실행 시간을 측정\n",
        "start_time = time.perf_counter()  # 실행 시작 시간을 기록\n",
        "# invoke_parallel 함수를 호출하여 10개의 비동기 작업을 병렬로 처리\n",
        "await invoke_parallel()\n",
        "end_time = time.perf_counter()    # 실행 종료 시간을 기록\n",
        "# 비동기 실행 시간 출력\n",
        "print(\"Async execution time:\", (end_time - start_time))\n",
        "print('-------------------------------------------------')\n",
        "\n",
        "# 동기 호출의 실행 시간을 측정\n",
        "start_time = time.perf_counter()  # 실행 시작 시간을 기록\n",
        "# 10번 동기적으로 llm.invoke() 메서드를 호출하여 결과를 출력\n",
        "for i in range(10):\n",
        "    result = llm.invoke(prompt)   # 동기 방식으로 결과를 반환\n",
        "    print(result)\n",
        "end_time = time.perf_counter()    # 실행 종료 시간을 기록\n",
        "# 동기 실행 시간 출력\n",
        "print(\"Sync execution time:\", (end_time - start_time))\n",
        "print('-------------------------------------------------')\n"
      ],
      "metadata": {
        "colab": {
          "base_uri": "https://localhost:8080/"
        },
        "id": "oTqgpG1dGoSO",
        "outputId": "b1cc15ae-7749-412e-e202-80e3e3b63a1a",
        "collapsed": true
      },
      "execution_count": 7,
      "outputs": [
        {
          "output_type": "stream",
          "name": "stdout",
          "text": [
            "\n",
            "\n",
            "Kimchi - Spicy fermented cabbage dish.\n",
            "\n",
            "\n",
            "1. Kimchi - Spicy fermented cabbage dish served with almost every meal.\n",
            "\n",
            "\n",
            "Kimchi - fermented vegetables, main side dish in Korean cuisine.\n",
            "\n",
            "\n",
            "Korean BBQ, kimchi, bibimbap, bulgogi, and tteokbokki.\n",
            "\n",
            "\n",
            "Kimchi: Spicy, fermented cabbage dish served as a side dish or ingredient in various dishes.\n",
            "\n",
            "\n",
            "Kimchi: spicy fermented cabbage dish\n",
            "\n",
            "\n",
            "Korean BBQ, bulgogi, bibimbap, kimchi, and spicy ramen are famous Korean foods.\n",
            "\n",
            "\n",
            "Kimchi, bibimbap, bulgogi, samgyeopsal, kimbap, tteokbokki, jjajangmyeon, dakgalbi, haemul pajeon, galbi jjim.\n",
            "\n",
            "\n",
            "Kimchi - Spicy fermented cabbage dish, served with most meals and considered a national food in Korea.\n",
            "\n",
            "\n",
            "Kimchi, bibimbap, bulgogi, kimchi jjigae, kimbap, tteokbokki, samgyeopsal, fried chicken, doenjang jjigae, bingsu\n",
            "Async execution time: 1.041464890000043\n",
            "-------------------------------------------------\n",
            "\n",
            "\n",
            "Kimchi: Spicy fermented cabbage dish, a staple in Korean cuisine.\n",
            "\n",
            "\n",
            "Kimchi - Fermented vegetable dish with spicy, tangy flavors. \n",
            "\n",
            "\n",
            "Kimchi - spicy, fermented vegetable dish.\n",
            "\n",
            "\n",
            "Kimchi (fermented vegetables) is a famous Korean food that is spicy, tangy, and served as a side dish with every meal.\n",
            "\n",
            "\n",
            "Bibimbap - Mixed rice dish with assorted vegetables, meat, and spicy sauce.\n",
            "\n",
            "\n",
            "Bulgogi, kimchi, bibimbap, and samgyeopsal are famous Korean dishes.\n",
            "\n",
            "\n",
            "Bibimbap - Mixed rice dish with vegetables and meat, topped with egg and spicy sauce.\n",
            "\n",
            "\n",
            "Bibimbap, traditional dish of rice, vegetables, meat, and spicy sauce.\n",
            "\n",
            "\n",
            "Kimchi, bibimbap, bulgogi, Korean BBQ\n",
            "\n",
            "\n",
            "Kimchi, bibimbap, bulgogi, kimbap, spicy ramen, fried chicken, tteokbokki, samgyeopsal, jjajangmyeon, galbi, gimbap.\n",
            "Sync execution time: 7.469631477999997\n",
            "-------------------------------------------------\n"
          ]
        }
      ]
    },
    {
      "cell_type": "markdown",
      "source": [
        "### Token Count"
      ],
      "metadata": {
        "id": "DzgMGQtZTGrt"
      }
    },
    {
      "cell_type": "code",
      "source": [
        "from langchain_openai import OpenAI\n",
        "from langchain_community.callbacks import get_openai_callback\n",
        "\n",
        "set_debug(False)\n",
        "\n",
        "llm = OpenAI(openai_api_key=API_KEY, cache=False)\n",
        "\n",
        "with get_openai_callback() as callback:\n",
        "    prompt = \"What is famous street foods in Seoul Korea in 200 characters\"\n",
        "    llm.invoke(prompt)\n",
        "    print(callback)\n",
        "    print(\"Total Tokens:\", callback.total_tokens)\n"
      ],
      "metadata": {
        "colab": {
          "base_uri": "https://localhost:8080/"
        },
        "collapsed": true,
        "id": "5K353R5tTIVc",
        "outputId": "6e33e3e6-04ac-48ea-f2b9-8ec8a3847eb6"
      },
      "execution_count": 23,
      "outputs": [
        {
          "output_type": "stream",
          "name": "stdout",
          "text": [
            "Tokens Used: 125\n",
            "\tPrompt Tokens: 12\n",
            "\tCompletion Tokens: 113\n",
            "Successful Requests: 1\n",
            "Total Cost (USD): $0.00024400000000000002\n",
            "Total Tokens: 125\n"
          ]
        }
      ]
    },
    {
      "cell_type": "markdown",
      "source": [
        "### Memory Caching"
      ],
      "metadata": {
        "id": "1TiFxFEDWWm7"
      }
    },
    {
      "cell_type": "code",
      "source": [
        "# Memory cache example\n",
        "from langchain_openai import OpenAI\n",
        "from langchain_community.callbacks import get_openai_callback\n",
        "from langchain_core.globals import set_llm_cache, set_debug\n",
        "from langchain_community.cache import InMemoryCache\n",
        "\n",
        "set_debug(True)\n",
        "\n",
        "set_llm_cache(InMemoryCache())\n",
        "llm = OpenAI(openai_api_key=API_KEY)\n",
        "prompt = \"What is famous street foods in Seoul Korea in 200 characters\"\n",
        "\n",
        "with get_openai_callback() as callback:\n",
        "    response = llm.invoke(prompt)\n",
        "    print(response)\n",
        "    print(\"Total Tokens:\", callback.total_tokens)\n",
        "\n",
        "with get_openai_callback() as callback:\n",
        "    llm.invoke(prompt)\n",
        "    response = llm.invoke(prompt)\n",
        "    print(response)\n",
        "    print(\"Total Tokens:\", callback.total_tokens)\n"
      ],
      "metadata": {
        "colab": {
          "base_uri": "https://localhost:8080/"
        },
        "collapsed": true,
        "id": "X68R40PJWa_t",
        "outputId": "18615aab-c127-4e9d-f194-6d8c96e77065"
      },
      "execution_count": 25,
      "outputs": [
        {
          "output_type": "stream",
          "name": "stdout",
          "text": [
            "\u001b[32;1m\u001b[1;3m[llm/start]\u001b[0m \u001b[1m[llm:OpenAI] Entering LLM run with input:\n",
            "\u001b[0m{\n",
            "  \"prompts\": [\n",
            "    \"What is famous street foods in Seoul Korea in 200 characters\"\n",
            "  ]\n",
            "}\n",
            "\u001b[36;1m\u001b[1;3m[llm/end]\u001b[0m \u001b[1m[llm:OpenAI] [1.64s] Exiting LLM run with output:\n",
            "\u001b[0m{\n",
            "  \"generations\": [\n",
            "    [\n",
            "      {\n",
            "        \"text\": \"\\n\\n1. Tteokbokki (spicy rice cakes)\\n2. Kimbap (seaweed rice rolls)\\n3. Gimbap (Korean-style sushi)\\n4. Japchae (stir-fried glass noodles)\\n5. Hotteok (sweet pancakes filled with brown sugar)\\n6. Mandu (dumplings)\\n7. Odeng (fish cakes on skewers)\\n8. Sundae (blood sausage)\\n9. Twigim (deep-fried snacks)\\n10. Dakkochi (grilled chicken skewers)\",\n",
            "        \"generation_info\": {\n",
            "          \"finish_reason\": \"stop\",\n",
            "          \"logprobs\": null\n",
            "        },\n",
            "        \"type\": \"Generation\"\n",
            "      }\n",
            "    ]\n",
            "  ],\n",
            "  \"llm_output\": {\n",
            "    \"token_usage\": {\n",
            "      \"prompt_tokens\": 12,\n",
            "      \"completion_tokens\": 116,\n",
            "      \"total_tokens\": 128\n",
            "    },\n",
            "    \"model_name\": \"gpt-3.5-turbo-instruct\"\n",
            "  },\n",
            "  \"run\": null,\n",
            "  \"type\": \"LLMResult\"\n",
            "}\n",
            "\n",
            "\n",
            "1. Tteokbokki (spicy rice cakes)\n",
            "2. Kimbap (seaweed rice rolls)\n",
            "3. Gimbap (Korean-style sushi)\n",
            "4. Japchae (stir-fried glass noodles)\n",
            "5. Hotteok (sweet pancakes filled with brown sugar)\n",
            "6. Mandu (dumplings)\n",
            "7. Odeng (fish cakes on skewers)\n",
            "8. Sundae (blood sausage)\n",
            "9. Twigim (deep-fried snacks)\n",
            "10. Dakkochi (grilled chicken skewers)\n",
            "Total Tokens: 128\n",
            "\n",
            "\n",
            "1. Tteokbokki (spicy rice cakes)\n",
            "2. Kimbap (seaweed rice rolls)\n",
            "3. Gimbap (Korean-style sushi)\n",
            "4. Japchae (stir-fried glass noodles)\n",
            "5. Hotteok (sweet pancakes filled with brown sugar)\n",
            "6. Mandu (dumplings)\n",
            "7. Odeng (fish cakes on skewers)\n",
            "8. Sundae (blood sausage)\n",
            "9. Twigim (deep-fried snacks)\n",
            "10. Dakkochi (grilled chicken skewers)\n",
            "Total Tokens: 0\n"
          ]
        }
      ]
    },
    {
      "cell_type": "code",
      "source": [
        "# Memory cache example\n",
        "from langchain_openai import OpenAI\n",
        "from langchain_community.callbacks import get_openai_callback\n",
        "from langchain_core.globals import set_llm_cache, set_debug\n",
        "from langchain_community.cache import InMemoryCache\n",
        "\n",
        "set_debug(False)\n",
        "\n",
        "set_llm_cache(InMemoryCache())\n",
        "llm1 = OpenAI(openai_api_key=API_KEY)\n",
        "llm2 = OpenAI(openai_api_key=API_KEY, cache=False)\n",
        "prompt = \"What is famous street foods in Seoul Korea in 50 characters\"\n",
        "\n",
        "with get_openai_callback() as callback:\n",
        "    response = llm1.invoke(prompt)\n",
        "    print(response)\n",
        "    print(\"Total Tokens:\", callback.total_tokens)\n",
        "\n",
        "with get_openai_callback() as callback:\n",
        "    llm.invoke(prompt)\n",
        "    response = llm2.invoke(prompt)\n",
        "    print(response)\n",
        "    print(\"Total Tokens:\", callback.total_tokens)\n"
      ],
      "metadata": {
        "colab": {
          "base_uri": "https://localhost:8080/"
        },
        "collapsed": true,
        "id": "9g3qvczYYvDZ",
        "outputId": "fa168bf2-4d9d-477e-c6ce-548e10b12c92"
      },
      "execution_count": 27,
      "outputs": [
        {
          "output_type": "stream",
          "name": "stdout",
          "text": [
            "\n",
            "\n",
            "1. Gimbap\n",
            "2. Tteokbokki\n",
            "3. Korean Fried Chicken\n",
            "4. Japchae\n",
            "5. Kimbap\n",
            "6. Hotteok\n",
            "7. Mandu (dumplings)\n",
            "8. Sundae (blood sausage)\n",
            "9. Gukbap (soup with rice)\n",
            "10. Sausage on a stick\n",
            "11. Odeng (fish cake)\n",
            "12. Pajeon (Korean pancake)\n",
            "13. Dakkochi (grilled chicken skewers)\n",
            "14. Eomuk (fish cake skewers)\n",
            "15. Gamjatang (spicy pork bone soup)\n",
            "16. Bibimbap\n",
            "17. Samgyeopsal (grilled pork belly)\n",
            "18. Jokbal (pig's feet)\n",
            "19. Kimchi fried rice\n",
            "20. Beondegi (silkworm pupae)\n",
            "21. Dakgangjeong (sweet and spicy chicken)\n",
            "22. Hotteok (sweet pancake)\n",
            "23. Hwe (raw fish)\n",
            "24. Gyeranppang (egg bread)\n",
            "25. Ddukbokki (spicy rice cakes)\n",
            "26. Twigim (fried snacks)\n",
            "27. Kimchi mandu (kimchi dumplings)\n",
            "\n",
            "Total Tokens: 268\n",
            "\n",
            "\n",
            "1. Tteokbokki (Spicy Rice Cakes)\n",
            "2. Kimbap (Seaweed Rice Rolls)\n",
            "3. Hotteok (Sweet Pancakes)\n",
            "4. Jjigae (Korean Stew)\n",
            "5. Mandu (Dumplings)\n",
            "6. Gimbap (Korean Sushi)\n",
            "7. Gyeranppang (Egg Bread)\n",
            "8. Bungeoppang (Fish-shaped Pastry)\n",
            "9. Dakkochi (Grilled Chicken Skewers)\n",
            "10. Sundae (Korean Blood Sausage)\n",
            "Total Tokens: 132\n"
          ]
        }
      ]
    },
    {
      "cell_type": "markdown",
      "source": [
        "### Redis Caching"
      ],
      "metadata": {
        "id": "z_28bK5ZdtV_"
      }
    },
    {
      "cell_type": "code",
      "source": [
        "# Redis cache example\n",
        "from langchain_openai import OpenAI\n",
        "from langchain_community.callbacks import get_openai_callback\n",
        "from langchain_core.globals import set_llm_cache\n",
        "from langchain_community.cache import RedisCache\n",
        "from redis import Redis\n",
        "\n",
        "set_llm_cache(\n",
        "    RedisCache(\n",
        "        redis_=Redis(\n",
        "            host=REDIS_HOST,\n",
        "            port=REDIS_PORT,\n",
        "            password=REDIS_PASSWORD\n",
        "        )\n",
        "    )\n",
        ")\n",
        "\n",
        "llm = OpenAI(openai_api_key=API_KEY)\n",
        "prompt = \"What is famous street foods in Seoul Korea in 150 characters\"\n",
        "\n",
        "with get_openai_callback() as callback:\n",
        "    response = llm.invoke(prompt)\n",
        "    print(response)\n",
        "    print(\"Total Tokens:\", callback.total_tokens)\n",
        "\n",
        "with get_openai_callback() as callback:\n",
        "    llm.invoke(prompt)\n",
        "    response = llm.invoke(prompt)\n",
        "    print(response)\n",
        "    print(\"Total Tokens:\", callback.total_tokens)\n"
      ],
      "metadata": {
        "colab": {
          "base_uri": "https://localhost:8080/"
        },
        "collapsed": true,
        "id": "F5ld6fAgdu3_",
        "outputId": "89e9798b-9acb-4f6e-b832-1b2b59a40c0d"
      },
      "execution_count": 37,
      "outputs": [
        {
          "output_type": "stream",
          "name": "stdout",
          "text": [
            "\n",
            "\n",
            "Some famous street foods in Seoul, Korea include tteokbokki (spicy rice cakes), kimbap (seaweed rice rolls), hotteok (sweet pancakes), and odeng (fish cakes on skewers).\n",
            "Total Tokens: 61\n",
            "\n",
            "\n",
            "Some famous street foods in Seoul, Korea include tteokbokki (spicy rice cakes), kimbap (seaweed rice rolls), hotteok (sweet pancakes), and odeng (fish cakes on skewers).\n",
            "Total Tokens: 0\n"
          ]
        }
      ]
    },
    {
      "cell_type": "markdown",
      "source": [
        "### Semantic Cache with Redis"
      ],
      "metadata": {
        "id": "ukuK6dFIiIAv"
      }
    },
    {
      "cell_type": "code",
      "source": [
        "# Redis Semantic cache example\n",
        "from langchain_openai import OpenAI\n",
        "from langchain_community.callbacks import get_openai_callback\n",
        "from langchain_core.globals import set_llm_cache\n",
        "from redis import Redis\n",
        "from langchain_community.cache import RedisSemanticCache\n",
        "from langchain_openai.embeddings import OpenAIEmbeddings\n",
        "import os\n",
        "\n",
        "os.environ[\"OPENAI_API_KEY\"] = API_KEY\n",
        "llm = OpenAI()\n",
        "\n",
        "# with Semantic Cache\n",
        "set_llm_cache(\n",
        "    RedisSemanticCache(\n",
        "        redis_url=\"redis://default:\"+REDIS_PASSWORD+\"@\"+REDIS_HOST+\":\"+str(REDIS_PORT),\n",
        "        embedding=OpenAIEmbeddings()\n",
        "    )\n",
        ")\n",
        "\n",
        "prompt1 = \"What is top 10 famous street foods in Seoul Korea in 100 characters\"\n",
        "prompt2 = \"What is top 5 famous street foods in Seoul Korea in 100 characters\"\n",
        "\n",
        "with get_openai_callback() as callback:\n",
        "    response = llm.invoke(prompt1)\n",
        "    print(response)\n",
        "    print(\"Total Tokens:\", callback.total_tokens)\n",
        "\n",
        "with get_openai_callback() as callback:\n",
        "    llm.invoke(prompt)\n",
        "    response = llm.invoke(prompt2)\n",
        "    print(response)\n",
        "    print(\"Total Tokens:\", callback.total_tokens)\n"
      ],
      "metadata": {
        "colab": {
          "base_uri": "https://localhost:8080/"
        },
        "collapsed": true,
        "id": "DXPfHqLGiJza",
        "outputId": "f1216b58-9993-49ad-a4ee-c9498041a125"
      },
      "execution_count": 48,
      "outputs": [
        {
          "output_type": "stream",
          "name": "stdout",
          "text": [
            "\n",
            "\n",
            "1. Tteokbokki - spicy rice cakes\n",
            "2. Kimbap - rice rolls with various fillings\n",
            "3. Japchae - stir-fried glass noodles\n",
            "4. Sundae - blood sausage\n",
            "5. Hotteok - sweet pancakes with filling\n",
            "6. Twigim - Korean-style tempura\n",
            "7. Odeng - fish cakes on skewers\n",
            "8. Mandu - dumplings\n",
            "9. Gimbap - seaweed rice rolls\n",
            "10. Bungeoppang - fish-shaped pastry with sweet red bean filling\n",
            "Total Tokens: 0\n",
            "\n",
            "\n",
            "1. Tteokbokki - spicy rice cakes\n",
            "2. Kimbap - rice rolls with various fillings\n",
            "3. Japchae - stir-fried glass noodles\n",
            "4. Sundae - blood sausage\n",
            "5. Hotteok - sweet pancakes with filling\n",
            "6. Twigim - Korean-style tempura\n",
            "7. Odeng - fish cakes on skewers\n",
            "8. Mandu - dumplings\n",
            "9. Gimbap - seaweed rice rolls\n",
            "10. Bungeoppang - fish-shaped pastry with sweet red bean filling\n",
            "Total Tokens: 0\n"
          ]
        }
      ]
    }
  ]
}