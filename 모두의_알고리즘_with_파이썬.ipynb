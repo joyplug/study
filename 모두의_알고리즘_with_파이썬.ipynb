{
  "nbformat": 4,
  "nbformat_minor": 0,
  "metadata": {
    "colab": {
      "provenance": [],
      "authorship_tag": "ABX9TyMcXU9w0wMJaHM38jprpoz6",
      "include_colab_link": true
    },
    "kernelspec": {
      "name": "python3",
      "display_name": "Python 3"
    },
    "language_info": {
      "name": "python"
    }
  },
  "cells": [
    {
      "cell_type": "markdown",
      "metadata": {
        "id": "view-in-github",
        "colab_type": "text"
      },
      "source": [
        "<a href=\"https://colab.research.google.com/github/joyplug/study/blob/main/%EB%AA%A8%EB%91%90%EC%9D%98_%EC%95%8C%EA%B3%A0%EB%A6%AC%EC%A6%98_with_%ED%8C%8C%EC%9D%B4%EC%8D%AC.ipynb\" target=\"_parent\"><img src=\"https://colab.research.google.com/assets/colab-badge.svg\" alt=\"Open In Colab\"/></a>"
      ]
    },
    {
      "cell_type": "markdown",
      "source": [
        "### 1부터 n까지 연속한 숫자의 합을 구하기\n",
        "\n"
      ],
      "metadata": {
        "id": "w2TSDDIUq9Yj"
      }
    },
    {
      "cell_type": "code",
      "execution_count": null,
      "metadata": {
        "colab": {
          "base_uri": "https://localhost:8080/"
        },
        "collapsed": true,
        "id": "pITTGy0SqhY6",
        "outputId": "c26d408f-1f5c-4666-a0d5-9e693d406243"
      },
      "outputs": [
        {
          "output_type": "stream",
          "name": "stdout",
          "text": [
            "55\n",
            "5050\n"
          ]
        }
      ],
      "source": [
        "def sum_n(n):\n",
        "    s = 0\n",
        "    for i in range(1, n+1):\n",
        "        s = s + i\n",
        "    return s\n",
        "\n",
        "print(sum_n(10))\n",
        "print(sum_n(100))"
      ]
    },
    {
      "cell_type": "code",
      "source": [
        "def sum_n(n):\n",
        "  return n * (n + 1) // 2\n",
        "\n",
        "print(sum_n(10))\n",
        "print(sum_n(100))"
      ],
      "metadata": {
        "colab": {
          "base_uri": "https://localhost:8080/"
        },
        "collapsed": true,
        "id": "WqdlB4nurYNH",
        "outputId": "38c4f5a1-a095-42ea-8f81-15f43bcba744"
      },
      "execution_count": null,
      "outputs": [
        {
          "output_type": "stream",
          "name": "stdout",
          "text": [
            "55\n",
            "5050\n"
          ]
        }
      ]
    },
    {
      "cell_type": "markdown",
      "source": [
        "### 최댓값을 구하는 알고리즘"
      ],
      "metadata": {
        "id": "NRaXB7agrvwA"
      }
    },
    {
      "cell_type": "code",
      "source": [
        "def find_max(a):\n",
        "    n = len(a)\n",
        "    max_v = a[0]\n",
        "\n",
        "    for i in range(1, n):\n",
        "        if a[i] > max_v:\n",
        "            max_v = a[i]\n",
        "\n",
        "    return max_v\n",
        "\n",
        "v = [17, 92, 18, 33, 58, 7, 33, 42]\n",
        "print(find_max(v))"
      ],
      "metadata": {
        "colab": {
          "base_uri": "https://localhost:8080/"
        },
        "collapsed": true,
        "id": "Z9eVaj_nryAA",
        "outputId": "ab915b86-8e29-4cb5-9244-180352c2306d"
      },
      "execution_count": null,
      "outputs": [
        {
          "output_type": "stream",
          "name": "stdout",
          "text": [
            "92\n"
          ]
        }
      ]
    },
    {
      "cell_type": "markdown",
      "source": [
        "### 최댓값의 위치를 구하는 알고리즘"
      ],
      "metadata": {
        "id": "ooP2P43-tC2o"
      }
    },
    {
      "cell_type": "code",
      "source": [
        "def find_max_idx(a):\n",
        "    n = len(a)\n",
        "    max_idx = 0\n",
        "\n",
        "    for i in range(1, n):\n",
        "        if a[i] > a[max_idx]:\n",
        "            max_idx = i\n",
        "\n",
        "    return max_idx\n",
        "\n",
        "v = [17, 92, 18, 33, 58, 7, 33, 42]\n",
        "print(find_max_idx(v))"
      ],
      "metadata": {
        "colab": {
          "base_uri": "https://localhost:8080/"
        },
        "collapsed": true,
        "id": "4Kt0blgFtG4F",
        "outputId": "9d61edda-4ad8-483f-9faf-a1c3d2359918"
      },
      "execution_count": null,
      "outputs": [
        {
          "output_type": "stream",
          "name": "stdout",
          "text": [
            "1\n"
          ]
        }
      ]
    },
    {
      "cell_type": "markdown",
      "source": [
        "### 동명이인을 찾는 알고리즘"
      ],
      "metadata": {
        "id": "W69-op1puHuh"
      }
    },
    {
      "cell_type": "code",
      "source": [
        "def find_same_name(a):\n",
        "    n = len(a)\n",
        "    result = set()\n",
        "\n",
        "    for i in range(0, n - 1):\n",
        "        for j in range(i + 1, n):\n",
        "            if a[i] == a[j]:\n",
        "                result.add(a[i])\n",
        "    return result\n",
        "\n",
        "name = [\"Tom\", \"Jerry\", \"Mike\", \"Tom\"]\n",
        "print(find_same_name(name))"
      ],
      "metadata": {
        "colab": {
          "base_uri": "https://localhost:8080/"
        },
        "collapsed": true,
        "id": "yv81tEKAuL4s",
        "outputId": "0575c5ec-dcdb-4936-e579-161cc3defc10"
      },
      "execution_count": null,
      "outputs": [
        {
          "output_type": "stream",
          "name": "stdout",
          "text": [
            "{'Tom'}\n"
          ]
        }
      ]
    },
    {
      "cell_type": "markdown",
      "source": [
        "### 팩토리얼 구하기 - 1"
      ],
      "metadata": {
        "id": "n8l-gjc6xDSD"
      }
    },
    {
      "cell_type": "code",
      "source": [
        "def fact(n):\n",
        "    f = 1\n",
        "    for i in range(1, n + 1):\n",
        "        f = f * i\n",
        "    return f\n",
        "\n",
        "print(fact(1))\n",
        "print(fact(5))\n",
        "print(fact(10))"
      ],
      "metadata": {
        "colab": {
          "base_uri": "https://localhost:8080/"
        },
        "collapsed": true,
        "id": "-3FBR69uxGx8",
        "outputId": "b48f2be7-df6d-49ba-e13a-ecd2005db11c"
      },
      "execution_count": null,
      "outputs": [
        {
          "output_type": "stream",
          "name": "stdout",
          "text": [
            "1\n",
            "120\n",
            "3628800\n"
          ]
        }
      ]
    },
    {
      "cell_type": "markdown",
      "source": [
        "### 팩토리얼 구하기 - 2 (재귀)"
      ],
      "metadata": {
        "id": "F0nUFtuGxiLG"
      }
    },
    {
      "cell_type": "code",
      "source": [
        "def fact(n):\n",
        "    if n <= 1:\n",
        "        return 1\n",
        "    return n * fact(n - 1)\n",
        "\n",
        "print(fact(1))\n",
        "print(fact(5))\n",
        "print(fact(10))"
      ],
      "metadata": {
        "colab": {
          "base_uri": "https://localhost:8080/"
        },
        "collapsed": true,
        "id": "eMmvGNR_xmDs",
        "outputId": "d6c2941b-1aac-4843-c969-69305c05cec3"
      },
      "execution_count": null,
      "outputs": [
        {
          "output_type": "stream",
          "name": "stdout",
          "text": [
            "1\n",
            "120\n",
            "3628800\n"
          ]
        }
      ]
    },
    {
      "cell_type": "markdown",
      "source": [
        "### 최대공약수를 구하는 알고리즘"
      ],
      "metadata": {
        "id": "KYZgiM9wyBqz"
      }
    },
    {
      "cell_type": "code",
      "source": [
        "def gcd(a, b):\n",
        "    i = min(a, b)\n",
        "    while True:\n",
        "        if a % i == 0 and b % i == 0:\n",
        "            return i\n",
        "        i = i - 1\n",
        "\n",
        "print(gcd(1, 5))\n",
        "print(gcd(3, 6))\n",
        "print(gcd(60, 24))\n",
        "print(gcd(81, 27))"
      ],
      "metadata": {
        "colab": {
          "base_uri": "https://localhost:8080/"
        },
        "collapsed": true,
        "id": "vcP46q9gyFpe",
        "outputId": "f293ca22-9957-427d-d760-8535876204fc"
      },
      "execution_count": null,
      "outputs": [
        {
          "output_type": "stream",
          "name": "stdout",
          "text": [
            "1\n",
            "3\n",
            "12\n",
            "27\n"
          ]
        }
      ]
    },
    {
      "cell_type": "markdown",
      "source": [
        "### 유클리드 방식을 이용해 최대공약수를 구하는 알고리즘"
      ],
      "metadata": {
        "id": "TezC9ZZ20GHO"
      }
    },
    {
      "cell_type": "code",
      "source": [
        "def gcd(a, b):\n",
        "    if b == 0:\n",
        "        return a\n",
        "    return gcd(b, a % b)\n",
        "\n",
        "print(gcd(1, 5))\n",
        "print(gcd(3, 6))\n",
        "print(gcd(60, 24))\n",
        "print(gcd(81, 27))"
      ],
      "metadata": {
        "colab": {
          "base_uri": "https://localhost:8080/"
        },
        "collapsed": true,
        "id": "9F91JptK0Lj3",
        "outputId": "d1402afb-04f9-4c90-f9f9-39cc144189a0"
      },
      "execution_count": null,
      "outputs": [
        {
          "output_type": "stream",
          "name": "stdout",
          "text": [
            "1\n",
            "3\n",
            "12\n",
            "27\n"
          ]
        }
      ]
    },
    {
      "cell_type": "markdown",
      "source": [
        "### 하노이의 탑 알고리즘"
      ],
      "metadata": {
        "id": "8gA_QKSZ1z6H"
      }
    },
    {
      "cell_type": "code",
      "source": [
        "def hanoi(n, from_pos, to_pos, aux_pos):\n",
        "    if n == 1:\n",
        "        print(from_pos, \"->\", to_pos)\n",
        "        return\n",
        "\n",
        "    hanoi(n - 1, from_pos, aux_pos, to_pos)\n",
        "    print(from_pos, \"->\", to_pos)\n",
        "    hanoi(n - 1, aux_pos, to_pos, from_pos)\n",
        "\n",
        "print(\"n = 1\")\n",
        "hanoi(1, 1, 3, 2)\n",
        "\n",
        "print(\"n = 2\")\n",
        "hanoi(2, 1, 3, 2)\n",
        "\n",
        "print(\"n = 3\")\n",
        "hanoi(3, 1, 3, 2)"
      ],
      "metadata": {
        "colab": {
          "base_uri": "https://localhost:8080/"
        },
        "collapsed": true,
        "id": "7ek-aDtX12Mr",
        "outputId": "f1edd429-5929-4dd1-aabb-60f22389e760"
      },
      "execution_count": null,
      "outputs": [
        {
          "output_type": "stream",
          "name": "stdout",
          "text": [
            "n = 1\n",
            "1 -> 3\n",
            "n = 2\n",
            "1 -> 2\n",
            "1 -> 3\n",
            "2 -> 3\n",
            "n = 3\n",
            "1 -> 3\n",
            "1 -> 2\n",
            "3 -> 2\n",
            "1 -> 3\n",
            "2 -> 1\n",
            "2 -> 3\n",
            "1 -> 3\n"
          ]
        }
      ]
    },
    {
      "cell_type": "markdown",
      "source": [
        "### 순차 탐색 알고리즘"
      ],
      "metadata": {
        "id": "Gs8pRsZK2pCo"
      }
    },
    {
      "cell_type": "code",
      "source": [
        "def search_list(a, x):\n",
        "    n = len(a)\n",
        "    for i in range(0, n):\n",
        "        if x == a[i]:\n",
        "            return i\n",
        "    return -1\n",
        "\n",
        "v = [17, 92, 18, 33, 58, 7, 33, 42]\n",
        "print(search_list(v, 18))\n",
        "print(search_list(v, 33))\n",
        "print(search_list(v, 900))"
      ],
      "metadata": {
        "colab": {
          "base_uri": "https://localhost:8080/"
        },
        "collapsed": true,
        "id": "f6ovjX9r2sVC",
        "outputId": "9d93cc78-740f-4cca-f925-0d4b2796374e"
      },
      "execution_count": null,
      "outputs": [
        {
          "output_type": "stream",
          "name": "stdout",
          "text": [
            "2\n",
            "3\n",
            "-1\n"
          ]
        }
      ]
    },
    {
      "cell_type": "markdown",
      "source": [
        "### 선택 정렬 알고리즘 - 1"
      ],
      "metadata": {
        "id": "_eMjLrFf3lvP"
      }
    },
    {
      "cell_type": "code",
      "source": [
        "def find_min_idx(a):\n",
        "    n = len(a)\n",
        "    min_idx = 0\n",
        "    for i in range(1, n):\n",
        "        if a[i] < a[min_idx]:\n",
        "            min_idx = i\n",
        "    return min_idx\n",
        "\n",
        "\n",
        "def sel_sort(a):\n",
        "    result = []\n",
        "    while a:\n",
        "        min_idx = find_min_idx(a)\n",
        "        value = a.pop(min_idx)\n",
        "        result.append(value)\n",
        "    return result\n",
        "\n",
        "\n",
        "d = [2, 4, 5, 1, 3]\n",
        "print(sel_sort(d))"
      ],
      "metadata": {
        "colab": {
          "base_uri": "https://localhost:8080/"
        },
        "collapsed": true,
        "id": "RtyQONHe3oun",
        "outputId": "b4d2db2d-859f-4e98-8f47-7f7b83afa6e2"
      },
      "execution_count": null,
      "outputs": [
        {
          "output_type": "stream",
          "name": "stdout",
          "text": [
            "[1, 2, 3, 4, 5]\n"
          ]
        }
      ]
    },
    {
      "cell_type": "markdown",
      "source": [
        "### 선택 정렬 알고리즘 - 2"
      ],
      "metadata": {
        "id": "B30RICmV6HP-"
      }
    },
    {
      "cell_type": "code",
      "source": [
        "def sel_sort(a):\n",
        "    n = len(a)\n",
        "    for i in range(0, n - 1):\n",
        "        min_idx = i\n",
        "        for j in range(i + 1, n):\n",
        "            if a[j] < a[min_idx]:\n",
        "                min_idx = j\n",
        "        a[i], a[min_idx] = a[min_idx], a[i]\n",
        "\n",
        "d = [2, 4, 5, 1, 3]\n",
        "sel_sort(d)\n",
        "print(d)"
      ],
      "metadata": {
        "colab": {
          "base_uri": "https://localhost:8080/"
        },
        "collapsed": true,
        "id": "M3LTs6Q16KPK",
        "outputId": "4bd3b945-d0e5-4ec0-bb0e-651bfba19ad7"
      },
      "execution_count": null,
      "outputs": [
        {
          "output_type": "stream",
          "name": "stdout",
          "text": [
            "[1, 2, 3, 4, 5]\n"
          ]
        }
      ]
    },
    {
      "cell_type": "markdown",
      "source": [
        "### 삽입 정렬 알고리즘"
      ],
      "metadata": {
        "id": "nRMcOBMm_Afn"
      }
    },
    {
      "cell_type": "code",
      "source": [
        "def find_ins_idx(r, v):\n",
        "    for i in range(0, len(r)):\n",
        "        if v < r[i]:\n",
        "            return i\n",
        "    return len(r)\n",
        "\n",
        "def ins_sort(a):\n",
        "    result = []\n",
        "    while a:\n",
        "        value = a.pop(0)\n",
        "        ins_idx = find_ins_idx(result, value)\n",
        "        result.insert(ins_idx, value)\n",
        "    return result\n",
        "\n",
        "d = [2, 4, 5, 1, 3]\n",
        "print(ins_sort(d))"
      ],
      "metadata": {
        "colab": {
          "base_uri": "https://localhost:8080/"
        },
        "collapsed": true,
        "id": "dLSOF7Ih_DQg",
        "outputId": "15a079b2-049b-4f90-dd69-ee54833ad933"
      },
      "execution_count": null,
      "outputs": [
        {
          "output_type": "stream",
          "name": "stdout",
          "text": [
            "[1, 2, 3, 4, 5]\n"
          ]
        }
      ]
    },
    {
      "cell_type": "markdown",
      "source": [
        "### 병합 정렬 알고리즘"
      ],
      "metadata": {
        "id": "bJpVvATIAnub"
      }
    },
    {
      "cell_type": "code",
      "source": [
        "def merge_sort(a):\n",
        "    n = len(a)\n",
        "    if n<= 1:\n",
        "        return a\n",
        "\n",
        "    mid = n // 2\n",
        "    g1 = merge_sort(a[:mid])\n",
        "    g2 = merge_sort(a[mid:])\n",
        "\n",
        "    result = []\n",
        "    while g1 and g2:\n",
        "        if g1[0] < g2[0]:\n",
        "            result.append(g1.pop(0))\n",
        "        else:\n",
        "            result.append(g2.pop(0))\n",
        "\n",
        "    while g1:\n",
        "        result.append(g1.pop(0))\n",
        "    while g2:\n",
        "        result.append(g2.pop(0))\n",
        "\n",
        "    return result\n",
        "\n",
        "d = [6, 8, 3, 9, 10, 1, 2, 4, 7, 5]\n",
        "print(merge_sort(d))"
      ],
      "metadata": {
        "colab": {
          "base_uri": "https://localhost:8080/"
        },
        "collapsed": true,
        "id": "2_GInVy-AqoB",
        "outputId": "bdf8dca9-fed1-40d6-924e-51a1274d9562"
      },
      "execution_count": null,
      "outputs": [
        {
          "output_type": "stream",
          "name": "stdout",
          "text": [
            "[1, 2, 3, 4, 5, 6, 7, 8, 9, 10]\n"
          ]
        }
      ]
    },
    {
      "cell_type": "markdown",
      "source": [
        "### 퀵 정렬"
      ],
      "metadata": {
        "id": "16oqnb6VB-hx"
      }
    },
    {
      "cell_type": "code",
      "source": [
        "def quick_sort(a):\n",
        "    n = len(a)\n",
        "    if n <= 1:\n",
        "        return a\n",
        "\n",
        "    pivot = a[-1]\n",
        "    g1 = []\n",
        "    g2 = []\n",
        "\n",
        "    for i in range(0, n - 1):\n",
        "        if a[i] < pivot:\n",
        "            g1.append(a[i])\n",
        "        else:\n",
        "            g2.append(a[i])\n",
        "\n",
        "    return quick_sort(g1) + [pivot] + quick_sort(g2)\n",
        "\n",
        "d = [6, 8, 3, 9, 10, 1, 2, 4, 7, 5]\n",
        "print(quick_sort(d))"
      ],
      "metadata": {
        "id": "Q7z6Zoj0CAqU"
      },
      "execution_count": null,
      "outputs": []
    },
    {
      "cell_type": "markdown",
      "source": [
        "### 이분 탐색 알고리즘"
      ],
      "metadata": {
        "id": "cmUZihskDU9M"
      }
    },
    {
      "cell_type": "code",
      "source": [
        "def binary_search(a, x):\n",
        "    start = 0\n",
        "    end = len(a) - 1\n",
        "\n",
        "    while start <= end:\n",
        "        mid = (start + end) // 2\n",
        "        if x == a[mid]:\n",
        "            return mid\n",
        "        elif x > a[mid]:\n",
        "            start = mid + 1\n",
        "        else:\n",
        "            end = mid - 1\n",
        "\n",
        "    return -1\n",
        "\n",
        "d = [1, 4, 9, 16, 25, 36, 49, 64, 81]\n",
        "print(binary_search(d, 36))\n",
        "print(binary_search(d, 50))"
      ],
      "metadata": {
        "colab": {
          "base_uri": "https://localhost:8080/"
        },
        "id": "OT4QVj4wDXvK",
        "outputId": "0055df9b-4d3b-4525-9fc9-a1ec51dc6c08"
      },
      "execution_count": null,
      "outputs": [
        {
          "output_type": "stream",
          "name": "stdout",
          "text": [
            "5\n",
            "-1\n"
          ]
        }
      ]
    },
    {
      "cell_type": "markdown",
      "source": [
        "### 재귀 호출을 이용한 이분 탐색"
      ],
      "metadata": {
        "id": "zsRmeWDdHHtZ"
      }
    },
    {
      "cell_type": "code",
      "source": [
        "def bianry_search_sub (a, x, start, end):\n",
        "    if start > end:\n",
        "        return -1\n",
        "\n",
        "    mid = (start + end) // 2\n",
        "    if x == a[mid]:\n",
        "        return mid\n",
        "    elif x > a[mid]:\n",
        "        return bianry_search_sub(a, x, mid + 1, end)\n",
        "    else:\n",
        "        return bianry_search_sub(a, x, start, mid - 1)\n",
        "\n",
        "    return -1\n",
        "\n",
        "def binary_search(a, x):\n",
        "    return bianry_search_sub(a, x, 0, len(a) - 1)\n",
        "\n",
        "d = [1, 4, 9, 16, 25, 36, 49, 64, 81]\n",
        "print(binary_search(d, 36))\n",
        "print(binary_search(d, 50))"
      ],
      "metadata": {
        "colab": {
          "base_uri": "https://localhost:8080/"
        },
        "id": "qXiY79ulHMdm",
        "outputId": "fe25e476-2705-40a0-9a9f-b45e15804f50"
      },
      "execution_count": 26,
      "outputs": [
        {
          "output_type": "stream",
          "name": "stdout",
          "text": [
            "5\n",
            "-1\n"
          ]
        }
      ]
    },
    {
      "cell_type": "markdown",
      "source": [
        "### 회문 찾기 알고리즘"
      ],
      "metadata": {
        "id": "k9CBpS3tEbrl"
      }
    },
    {
      "cell_type": "code",
      "source": [
        "def palindrome(s):\n",
        "    qu = []\n",
        "    st = []\n",
        "\n",
        "    for x in s:\n",
        "        if x.isalpha():\n",
        "            qu.append(x.lower())\n",
        "            st.append(x.lower())\n",
        "\n",
        "    while qu:\n",
        "        if qu.pop(0) != st.pop():\n",
        "            return False\n",
        "\n",
        "    return True\n",
        "\n",
        "print(palindrome(\"Wow\"))\n",
        "print(palindrome(\"Madam, I'm Adam.\"))\n",
        "print(palindrome(\"Madam, I am Adam.\"))\n"
      ],
      "metadata": {
        "colab": {
          "base_uri": "https://localhost:8080/"
        },
        "id": "wjIx_m7_EePh",
        "outputId": "ffae4f7c-6f14-439e-f850-bb7bba4655c3",
        "collapsed": true
      },
      "execution_count": null,
      "outputs": [
        {
          "output_type": "stream",
          "name": "stdout",
          "text": [
            "True\n",
            "True\n",
            "False\n"
          ]
        }
      ]
    },
    {
      "cell_type": "markdown",
      "source": [
        "### 문자열 앞뒤 비교하여 회문인지 확인"
      ],
      "metadata": {
        "id": "Wigtt0eyIA-y"
      }
    },
    {
      "cell_type": "code",
      "source": [
        "def palindrome(s):\n",
        "    i = 0\n",
        "    j = len(s) - 1\n",
        "    while i < j:\n",
        "        if s[i].isalpha() == False:\n",
        "            i += 1\n",
        "        elif s[j].isalpha() == False:\n",
        "            j -= 1\n",
        "        elif s[i].lower() != s[j].lower():\n",
        "            return False\n",
        "        else:\n",
        "            i += 1\n",
        "            j -= 1\n",
        "\n",
        "    return True\n",
        "\n",
        "print(palindrome(\"Wow\"))\n",
        "print(palindrome(\"Madam, I'm Adam.\"))\n",
        "print(palindrome(\"Madam, I am Adam.\"))"
      ],
      "metadata": {
        "colab": {
          "base_uri": "https://localhost:8080/"
        },
        "collapsed": true,
        "id": "no_oVMX-IF34",
        "outputId": "6878ef03-4702-4980-d78d-746d6574d459"
      },
      "execution_count": 27,
      "outputs": [
        {
          "output_type": "stream",
          "name": "stdout",
          "text": [
            "True\n",
            "True\n",
            "False\n"
          ]
        }
      ]
    },
    {
      "cell_type": "markdown",
      "source": [
        "### 딕셔너리로 동명이인을 찾는 알고리즘"
      ],
      "metadata": {
        "id": "9S4FcCaJJXmt"
      }
    },
    {
      "cell_type": "code",
      "source": [
        "def find_same_name(a):\n",
        "    name_dict = {}\n",
        "    for name in a:\n",
        "        if name in name_dict:\n",
        "            name_dict[name] += 1\n",
        "        else:\n",
        "            name_dict[name] = 1\n",
        "\n",
        "    result = set()\n",
        "    for name in name_dict:\n",
        "        if name_dict[name] >= 2:\n",
        "            result.add(name)\n",
        "\n",
        "    return result\n",
        "\n",
        "name = [\"Tom\", \"Jerry\", \"Mike\", \"Tom\"]\n",
        "print(find_same_name(name))\n",
        "\n",
        "name2 = [\"Tom\", \"Jerry\", \"Mike\", \"Tom\", \"Mike\"]\n",
        "print(find_same_name(name2))\n"
      ],
      "metadata": {
        "colab": {
          "base_uri": "https://localhost:8080/"
        },
        "collapsed": true,
        "id": "fXRD6sIUJcYl",
        "outputId": "65cd3bae-6f08-4e4e-d5f1-71b03755bb82"
      },
      "execution_count": 28,
      "outputs": [
        {
          "output_type": "stream",
          "name": "stdout",
          "text": [
            "{'Tom'}\n",
            "{'Tom', 'Mike'}\n"
          ]
        }
      ]
    },
    {
      "cell_type": "markdown",
      "source": [
        "### 모든 친구를 찾는 알고리즘"
      ],
      "metadata": {
        "id": "fYR2rVvuKpDm"
      }
    },
    {
      "cell_type": "code",
      "source": [
        "def print_all_friends(g, start):\n",
        "    qu = []\n",
        "    done = set()\n",
        "\n",
        "    qu.append(start)\n",
        "    done.add(start)\n",
        "\n",
        "    while qu:\n",
        "        p = qu.pop(0)\n",
        "        print(p)\n",
        "        for x in g[p]:\n",
        "            if x not in done:\n",
        "                qu.append(x)\n",
        "                done.add(x)\n",
        "\n",
        "fr_info = {\n",
        "    'Summer': ['John', 'Justin', 'Mike'],\n",
        "    'John': ['Summer', 'Justin'],\n",
        "    'Justin': ['John', 'Summer', 'Mike', 'May'],\n",
        "    'Mike': ['Summer', 'Justin'],\n",
        "    'May': ['Justin', 'Kim'],\n",
        "    'Kim': ['May'],\n",
        "    'Tom': ['Jerry'],\n",
        "    'Jerry': ['Tom']\n",
        "}\n",
        "\n",
        "print_all_friends(fr_info, 'Summer')\n",
        "print()\n",
        "print_all_friends(fr_info, 'Jerry')"
      ],
      "metadata": {
        "colab": {
          "base_uri": "https://localhost:8080/"
        },
        "collapsed": true,
        "id": "BOOyY3HjKr6b",
        "outputId": "a1b7c014-dddf-4862-f998-6a8c8708e081"
      },
      "execution_count": 29,
      "outputs": [
        {
          "output_type": "stream",
          "name": "stdout",
          "text": [
            "Summer\n",
            "John\n",
            "Justin\n",
            "Mike\n",
            "May\n",
            "Kim\n",
            "\n",
            "Jerry\n",
            "Tom\n"
          ]
        }
      ]
    },
    {
      "cell_type": "markdown",
      "source": [
        "### 모든 친구를 찾아서 친밀도를 계산하는 알고리즘"
      ],
      "metadata": {
        "id": "X1gWFfw7MY1c"
      }
    },
    {
      "cell_type": "code",
      "source": [
        "def print_all_friends(g, start):\n",
        "    qu = []\n",
        "    done = set()\n",
        "\n",
        "    qu.append((start, 0))\n",
        "    done.add(start)\n",
        "\n",
        "    while qu:\n",
        "        (p, d) = qu.pop(0)\n",
        "        print(p, d)\n",
        "        for x in g[p]:\n",
        "            if x not in done:\n",
        "                qu.append((x, d + 1))\n",
        "                done.add(x)\n",
        "\n",
        "fr_info = {\n",
        "    'Summer': ['John', 'Justin', 'Mike'],\n",
        "    'John': ['Summer', 'Justin'],\n",
        "    'Justin': ['John', 'Summer', 'Mike', 'May'],\n",
        "    'Mike': ['Summer', 'Justin'],\n",
        "    'May': ['Justin', 'Kim'],\n",
        "    'Kim': ['May'],\n",
        "    'Tom': ['Jerry'],\n",
        "    'Jerry': ['Tom']\n",
        "}\n",
        "\n",
        "print_all_friends(fr_info, 'Summer')\n",
        "print()\n",
        "print_all_friends(fr_info, 'Jerry')\n"
      ],
      "metadata": {
        "colab": {
          "base_uri": "https://localhost:8080/"
        },
        "collapsed": true,
        "id": "iYH_OwBZMdCf",
        "outputId": "d2bfb655-7059-43ca-c9e0-870eecbc2dfd"
      },
      "execution_count": 30,
      "outputs": [
        {
          "output_type": "stream",
          "name": "stdout",
          "text": [
            "Summer 0\n",
            "John 1\n",
            "Justin 1\n",
            "Mike 1\n",
            "May 2\n",
            "Kim 3\n",
            "\n",
            "Jerry 0\n",
            "Tom 1\n"
          ]
        }
      ]
    },
    {
      "cell_type": "markdown",
      "source": [
        "### 미로 찾기 알고리즘"
      ],
      "metadata": {
        "id": "5HZnJq9TUh9Y"
      }
    },
    {
      "cell_type": "code",
      "source": [
        "def solve_maze(g, start, end):\n",
        "    qu = []\n",
        "    done = set()\n",
        "\n",
        "    qu.append(start)\n",
        "    done.add(start)\n",
        "\n",
        "    while qu:\n",
        "        p = qu.pop(0)\n",
        "        v = p[-1]\n",
        "        if v == end:\n",
        "            return p\n",
        "        for x in g[v]:\n",
        "            if x not in done:\n",
        "                qu.append(p + x)\n",
        "                done.add(x)\n",
        "    return \"?\"\n",
        "\n",
        "maze = {\n",
        "    'a': ['e'],\n",
        "    'b': ['c', 'f'],\n",
        "    'c': ['b', 'd'],\n",
        "    'd': ['c'],\n",
        "    'e': ['a', 'i'],\n",
        "    'f': ['b', 'g', 'j'],\n",
        "    'g': ['f', 'h'],\n",
        "    'h': ['g', 'l'],\n",
        "    'i': ['e', 'm'],\n",
        "    'j': ['f', 'k', 'n'],\n",
        "    'k': ['j', 'o'],\n",
        "    'l': ['h', 'p'],\n",
        "    'm': ['i', 'n'],\n",
        "    'n': ['m', 'j'],\n",
        "    'o': ['k'],\n",
        "    'p': ['l']\n",
        "}\n",
        "print(solve_maze(maze, 'a', 'p'))"
      ],
      "metadata": {
        "colab": {
          "base_uri": "https://localhost:8080/"
        },
        "id": "hFQOwLGTUk__",
        "outputId": "601386ea-d702-4680-9ec7-c3970d42aeff"
      },
      "execution_count": 33,
      "outputs": [
        {
          "output_type": "stream",
          "name": "stdout",
          "text": [
            "aeimnjfghlp\n"
          ]
        }
      ]
    },
    {
      "cell_type": "markdown",
      "source": [
        "### 가짜 동전을 찾는 알고리즘 - 하나씩 비교하기"
      ],
      "metadata": {
        "id": "XyxgDWU-Y61K"
      }
    },
    {
      "cell_type": "code",
      "source": [
        "def weigh(a, b, c, d):\n",
        "    fake = 29\n",
        "    if a <= fake and fake <= b:\n",
        "        return -1\n",
        "    if c <= fake and fake <= d:\n",
        "        return 1\n",
        "    return 0\n",
        "\n",
        "def find_fakecoin(left, right):\n",
        "    for i in range(left + 1, right + 1):\n",
        "        result = weigh(left, left, i, i)\n",
        "        if result == -1:\n",
        "            return left\n",
        "        elif result == 1:\n",
        "            return i\n",
        "    return -1\n",
        "\n",
        "n = 100\n",
        "print(find_fakecoin(0, n - 1))"
      ],
      "metadata": {
        "colab": {
          "base_uri": "https://localhost:8080/"
        },
        "id": "kJvNuDC8Y_Bp",
        "outputId": "399ef1c1-2650-4d0b-8fb3-ff72aaa506b1"
      },
      "execution_count": 34,
      "outputs": [
        {
          "output_type": "stream",
          "name": "stdout",
          "text": [
            "29\n"
          ]
        }
      ]
    },
    {
      "cell_type": "markdown",
      "source": [
        "### 가짜 동전을 찾는 알고리즘 - 반씩 그룹으로 나누어 비교하기"
      ],
      "metadata": {
        "id": "PcXDgTOzd4KI"
      }
    },
    {
      "cell_type": "code",
      "source": [
        "def weigh(a, b, c, d):\n",
        "    fake = 29\n",
        "    if a <= fake and fake <= b:\n",
        "        return -1\n",
        "    if c <= fake and fake <= d:\n",
        "        return 1\n",
        "\n",
        "\n",
        "def find_fakecoin(left, right):\n",
        "    if left == right:\n",
        "        return left\n",
        "\n",
        "    half = (right - left + 1) // 2\n",
        "    g1_left = left\n",
        "    g1_right = left + half - 1\n",
        "    g2_left = left + half\n",
        "    g2_right = g2_left + half - 1\n",
        "\n",
        "    result = weigh(g1_left, g1_right, g2_left, g2_right)\n",
        "    if result == -1:\n",
        "        return find_fakecoin(g1_left, g1_right)\n",
        "    elif result == 1:\n",
        "        return find_fakecoin(g2_left, g2_right)\n",
        "    else:\n",
        "        return right\n",
        "\n",
        "n = 100\n",
        "print(find_fakecoin(0, n - 1))"
      ],
      "metadata": {
        "colab": {
          "base_uri": "https://localhost:8080/"
        },
        "id": "dkINBbUUd3uP",
        "outputId": "3dce91e9-dfcb-4483-d1da-811b5909ad55"
      },
      "execution_count": 35,
      "outputs": [
        {
          "output_type": "stream",
          "name": "stdout",
          "text": [
            "29\n"
          ]
        }
      ]
    },
    {
      "cell_type": "markdown",
      "source": [
        "### 최대 수익을 구하는 알고리즘 - 1"
      ],
      "metadata": {
        "id": "CZiUHSRIh-9z"
      }
    },
    {
      "cell_type": "code",
      "source": [
        "def max_profit(prices):\n",
        "    n = len(prices)\n",
        "    max_profit = 0\n",
        "\n",
        "    for i in range(0, n - 1):\n",
        "        for j in range(i + 1, n):\n",
        "            profit = prices[j] - prices[i]\n",
        "            if profit > max_profit:\n",
        "                max_profit = profit\n",
        "\n",
        "    return max_profit\n",
        "\n",
        "stock = [10300, 9600, 9800, 8200, 7800, 8300, 9500, 9800, 10200, 9500]\n",
        "print(max_profit(stock))"
      ],
      "metadata": {
        "colab": {
          "base_uri": "https://localhost:8080/"
        },
        "id": "psdaCXkaiFbM",
        "outputId": "98928bf6-7f65-4bee-aa7a-103d5df8b0f9"
      },
      "execution_count": 36,
      "outputs": [
        {
          "output_type": "stream",
          "name": "stdout",
          "text": [
            "2400\n"
          ]
        }
      ]
    },
    {
      "cell_type": "markdown",
      "source": [
        "### 최대 수익을 구하는 알고리즘 - 2"
      ],
      "metadata": {
        "id": "K4sYoIBKkVWU"
      }
    },
    {
      "cell_type": "code",
      "source": [
        "def max_profit(prices):\n",
        "    n = len(prices)\n",
        "    max_profit = 0\n",
        "    min_price = prices[0]\n",
        "\n",
        "    for i in range(1, n):\n",
        "        profit = prices[i] - min_price\n",
        "\n",
        "        if profit > max_profit:\n",
        "            max_profit = profit\n",
        "\n",
        "        if prices[i] < min_price:\n",
        "            min_price = prices[i]\n",
        "\n",
        "    return max_profit\n",
        "\n",
        "stock = [10300, 9600, 9800, 8200, 7800, 8300, 9500, 9800, 10200, 9500]\n",
        "print(max_profit(stock))"
      ],
      "metadata": {
        "colab": {
          "base_uri": "https://localhost:8080/"
        },
        "id": "Zb-JNklRk-d9",
        "outputId": "3c1c0db0-f291-4294-f4c2-fe94450fd7ff"
      },
      "execution_count": 39,
      "outputs": [
        {
          "output_type": "stream",
          "name": "stdout",
          "text": [
            "2400\n"
          ]
        }
      ]
    }
  ]
}